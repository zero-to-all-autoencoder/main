{
 "cells": [
  {
   "cell_type": "code",
   "execution_count": 78,
   "metadata": {},
   "outputs": [],
   "source": [
    "import pandas as pd\n",
    "import torch\n",
    "import torch.nn as nn\n",
    "from torch.utils.data import Dataset, DataLoader, TensorDataset\n",
    "from sklearn.preprocessing import MinMaxScaler\n",
    "import matplotlib.pyplot as plt\n",
    "import numpy as np\n",
    "import datetime\n",
    "from torchinfo import summary\n",
    "from sklearn.metrics import accuracy_score\n",
    "from sklearn.model_selection import train_test_split\n",
    "from sklearn.metrics import confusion_matrix, precision_score, recall_score\n",
    "import pdb\n",
    "#디버깅 하는것도 설명 <<"
   ]
  },
  {
   "cell_type": "code",
   "execution_count": 26,
   "metadata": {},
   "outputs": [
    {
     "name": "stdout",
     "output_type": "stream",
     "text": [
      "cuda\n"
     ]
    }
   ],
   "source": [
    "#hyperparameter & path setting\n",
    "batch_size=128\n",
    "lr=1e-2\n",
    "latent_dim=8\n",
    "epochs=20\n",
    "\n",
    "data_path='/data/home/ppleeqq/data/credit/'\n",
    "model_path='./ae_save_models/'\n",
    "log_path='./ae_logs/'\n",
    "Train=True\n",
    "\n",
    "#랜덤 시드 설정\n",
    "seed = 40\n",
    "torch.manual_seed(seed)\n",
    "\n",
    "device = torch.device('cuda' if torch.cuda.is_available() else 'cpu')\n",
    "print(device)"
   ]
  },
  {
   "cell_type": "markdown",
   "metadata": {},
   "source": [
    "### 차원축소 & classification\n",
    "- DNN으로 데이터 classification을 진행해보자\n",
    "- 그 후에 오토인코더로 차원축소하고 그 데이터로 DNN bification을 진행하며 무슨 차이가 있는지 보자\n",
    "- credit data는 unsupervised xification dataset이라 train set에 label이 없다!\n",
    "- 저번엔 따로 불러오기만 하면 됐었는데 원래 train validation test를 나눠주는 경우는 잘 없으니까 이번엔 직접 나눠보자"
   ]
  },
  {
   "cell_type": "code",
   "execution_count": 67,
   "metadata": {},
   "outputs": [],
   "source": [
    "\n",
    "class CustomDataset(Dataset):\n",
    "    def __init__(self, file_path):\n",
    "        df = pd.read_csv(file_path)\n",
    "        data = df.drop(columns=['ID', 'Class']).values\n",
    "        labels = df['Class'].values\n",
    "        \n",
    "        #pdb.set_trace()\n",
    "        train_data, val_data, train_labels, val_labels = train_test_split(data,labels, test_size=0.2, stratify=labels,random_state=1)\n",
    "        val_data, test_data, val_labels, test_labels = train_test_split(val_data ,val_labels, test_size=0.5, stratify=val_labels,random_state=1)\n",
    "        \n",
    "        scaler = MinMaxScaler()\n",
    "        train_data = scaler.fit_transform(train_data)\n",
    "        val_data = scaler.transform(val_data)\n",
    "        test_data = scaler.transform(test_data)\n",
    "\n",
    "    \n",
    "\n",
    "        self.train_dataset = TensorDataset(torch.FloatTensor(train_data),torch.FloatTensor(train_labels))\n",
    "        self.val_dataset = TensorDataset(torch.FloatTensor(val_data),torch.FloatTensor(val_labels))\n",
    "        self.test_dataset = TensorDataset(torch.FloatTensor(test_data),torch.FloatTensor(test_labels))\n",
    "\n",
    "        # self.train_data = torch.FloatTensor(train_data)\n",
    "        # self.train_labels = torch.FloatTensor(train_labels)\n",
    "        # self.val_data = torch.FloatTensor(val_data)\n",
    "        # self.val_labels = torch.FloatTensor(val_labels)\n",
    "        # self.test_data = torch.FloatTensor(test_data)\n",
    "        # self.test_labels = torch.FloatTensor(test_labels)\n",
    "\n",
    "    def __getitem__(self, index):\n",
    "        if hasattr(self, 'train_data') and index < len(self.train_data):\n",
    "            x, y = self.train_data[index], self.train_labels[index]\n",
    "        elif hasattr(self, 'val_data') and index < len(self.val_data):\n",
    "            x, y = self.val_data[index], self.val_labels[index]\n",
    "        elif hasattr(self, 'test_data') and index < len(self.test_data):\n",
    "            x, y = self.test_data[index], self.test_labels[index]\n",
    "        else:\n",
    "            raise IndexError(\"Index out of range.\")\n",
    "        \n",
    "        return x, y\n",
    "\n",
    "    def __len__(self):\n",
    "        if hasattr(self, 'train_data'):\n",
    "            return len(self.train_data)\n",
    "        elif hasattr(self, 'val_data'):\n",
    "            return len(self.val_data)\n",
    "        elif hasattr(self, 'test_data'):\n",
    "            return len(self.test_data)\n",
    "        else:\n",
    "            return 0\n",
    "\n",
    "# 데이터 불러오기 (train 데이터로 설정)\n",
    "dataset = CustomDataset(data_path+'val.csv')\n"
   ]
  },
  {
   "cell_type": "code",
   "execution_count": 69,
   "metadata": {},
   "outputs": [
    {
     "name": "stdout",
     "output_type": "stream",
     "text": [
      "Training Data Size : 22769\n",
      "Validation Data Size : 2846\n",
      "Testing Data Size : 2847\n"
     ]
    }
   ],
   "source": [
    "#몇개씩 나눠졌는지 확인하고\n",
    "print(f\"Training Data Size : {len(dataset.train_dataset)}\")\n",
    "print(f\"Validation Data Size : {len(dataset.val_dataset)}\")\n",
    "print(f\"Testing Data Size : {len(dataset.test_dataset)}\")"
   ]
  },
  {
   "cell_type": "code",
   "execution_count": 70,
   "metadata": {},
   "outputs": [],
   "source": [
    "# #x,y 합쳐주고\n",
    "# train_dataset = TensorDataset(dataset.train_data, dataset.train_labels)\n",
    "# val_dataset = TensorDataset(dataset.val_data, dataset.val_labels)\n",
    "# test_dataset = TensorDataset(dataset.test_data, dataset.test_labels)\n",
    "\n",
    "#데이터 로더 넣어주고\n",
    "train_dataloader = DataLoader(dataset.train_dataset, batch_size=batch_size, shuffle=True, drop_last=True)\n",
    "val_dataloader = DataLoader(dataset.val_dataset, batch_size=batch_size, shuffle=True, drop_last=True)\n",
    "test_dataloader = DataLoader(dataset.test_dataset, batch_size=batch_size, shuffle=True, drop_last=True)"
   ]
  },
  {
   "cell_type": "code",
   "execution_count": 71,
   "metadata": {},
   "outputs": [],
   "source": [
    "# 인코더 정의\n",
    "class Encoder(nn.Module):\n",
    "    def __init__(self):\n",
    "        super(Encoder, self).__init__()\n",
    "        self.l1 = nn.Linear(30, 15)\n",
    "        self.l2 = nn.Linear(15, 8)\n",
    "        self.l3 = nn.Linear(8, 4)\n",
    "        self.relu = nn.ReLU()\n",
    "\n",
    "    def forward(self, x):\n",
    "        x = self.l1(x)\n",
    "        x = self.relu(x)\n",
    "        x = self.l2(x)\n",
    "        x = self.relu(x)\n",
    "        x = self.l3(x)\n",
    "        x = self.relu(x)\n",
    "        return x\n",
    "\n",
    "# 디코더 정의\n",
    "class Decoder(nn.Module):\n",
    "    def __init__(self):\n",
    "        super(Decoder, self).__init__()\n",
    "        self.l1 = nn.Linear(4, 8)\n",
    "        self.l2 = nn.Linear(8, 15)\n",
    "        self.l3 = nn.Linear(15, 30)\n",
    "        self.relu = nn.ReLU()\n",
    "        self.sigmoid=nn.Sigmoid()\n",
    "\n",
    "    def forward(self, z):\n",
    "        z = self.l1(z)\n",
    "        z = self.relu(z)\n",
    "        z = self.l2(z)\n",
    "        z = self.relu(z)\n",
    "        z = self.l3(z)\n",
    "        z = self.relu(z)\n",
    "        z= self.sigmoid(z)\n",
    "        return z\n",
    "\n",
    "#맨날 렐루만 하면 재미없으니까 리키렐루를 이용해보자\n",
    "#보통은 렐루로 해보고 성능이 별로면 이것저것 적용해보는게 좋은 것 같음\n",
    "# binary 분류라 sigmoid 적용했지만 multi classification인 경우 softmax로 변경하면 됨\n",
    "class DNN(nn.Module):\n",
    "    def __init__(self,input_col):\n",
    "        super(DNN, self).__init__()\n",
    "        self.l1 = nn.Linear(input_col, 4)\n",
    "        self.l2 = nn.Linear(4, 1)\n",
    "        self.leakyrelu = nn.LeakyReLU()\n",
    "        self.sigmoid = nn.Sigmoid()\n",
    "\n",
    "    def forward(self, x):\n",
    "        x = self.l1(x)\n",
    "        x = self.leakyrelu(x)\n",
    "        x = self.l2(x)\n",
    "        x = self.leakyrelu(x)\n",
    "        x = self.sigmoid(x)\n",
    "        return x\n",
    "\n",
    "#오토인코더 모델 정의\n",
    "class Autoencoder(nn.Module):\n",
    "    def __init__(self):\n",
    "        super(Autoencoder, self).__init__()\n",
    "        self.encoder = Encoder()\n",
    "        self.decoder = Decoder()\n",
    "\n",
    "    def forward(self, x):\n",
    "        encoded = self.encoder(x)\n",
    "        decoded = self.decoder(encoded)\n",
    "        return encoded, decoded\n",
    "\n",
    "\n",
    "# 이런 식으로 인코더와 디코더를 따로 정의한다면\n",
    "# 나중에 인코더의 차원축소만 필요할 때, 굳이 오토인코더를 통째로 돌리지 않고\n",
    "# 인코더만 불러서 돌릴 수 있다.\n",
    "# 더 복잡한 모델을 짤 수 있는 것도 덤\n",
    "# ________________________________________________________\n",
    "\n",
    "#분류 모델 정의\n",
    "class Classifier(nn.Module):\n",
    "    def __init__(self):\n",
    "        super(Classifier, self).__init__()\n",
    "        self.encoder = Encoder()\n",
    "        self.dnn = DNN(4)\n",
    "\n",
    "    def forward(self, x):\n",
    "        encoded = self.encoder(x)\n",
    "        z = self.dnn(encoded)\n",
    "        return  z\n",
    "\n"
   ]
  },
  {
   "cell_type": "code",
   "execution_count": 72,
   "metadata": {},
   "outputs": [
    {
     "name": "stdout",
     "output_type": "stream",
     "text": [
      "cuda\n"
     ]
    }
   ],
   "source": [
    "# 모델이 잘 적합되었는지 확인\n",
    "model1=Autoencoder()\n",
    "model1.to(device)\n",
    "print(device)"
   ]
  },
  {
   "cell_type": "code",
   "execution_count": 73,
   "metadata": {},
   "outputs": [
    {
     "data": {
      "text/plain": [
       "==========================================================================================\n",
       "Layer (type:depth-idx)                   Output Shape              Param #\n",
       "==========================================================================================\n",
       "Autoencoder                              --                        --\n",
       "├─Encoder: 1-1                           [128, 113842, 4]          --\n",
       "│    └─Linear: 2-1                       [128, 113842, 15]         465\n",
       "│    └─ReLU: 2-2                         [128, 113842, 15]         --\n",
       "│    └─Linear: 2-3                       [128, 113842, 8]          128\n",
       "│    └─ReLU: 2-4                         [128, 113842, 8]          --\n",
       "│    └─Linear: 2-5                       [128, 113842, 4]          36\n",
       "│    └─ReLU: 2-6                         [128, 113842, 4]          --\n",
       "├─Decoder: 1-2                           [128, 113842, 30]         --\n",
       "│    └─Linear: 2-7                       [128, 113842, 8]          40\n",
       "│    └─ReLU: 2-8                         [128, 113842, 8]          --\n",
       "│    └─Linear: 2-9                       [128, 113842, 15]         135\n",
       "│    └─ReLU: 2-10                        [128, 113842, 15]         --\n",
       "│    └─Linear: 2-11                      [128, 113842, 30]         480\n",
       "│    └─ReLU: 2-12                        [128, 113842, 30]         --\n",
       "│    └─Sigmoid: 2-13                     [128, 113842, 30]         --\n",
       "==========================================================================================\n",
       "Total params: 1,284\n",
       "Trainable params: 1,284\n",
       "Non-trainable params: 0\n",
       "Total mult-adds (M): 0.16\n",
       "==========================================================================================\n",
       "Input size (MB): 1748.61\n",
       "Forward/backward pass size (MB): 9325.94\n",
       "Params size (MB): 0.01\n",
       "Estimated Total Size (MB): 11074.55\n",
       "=========================================================================================="
      ]
     },
     "execution_count": 73,
     "metadata": {},
     "output_type": "execute_result"
    }
   ],
   "source": [
    "#위처럼 오토인코더 구조를 확인할 경우 무슨 레이어가 있는지는 알지만 순서는 알 수 없음.\n",
    "#따라서 torchinfo의 summary 모듈을 import하여 확인\n",
    "summary(model1, (128, 113842,30))"
   ]
  },
  {
   "cell_type": "code",
   "execution_count": 74,
   "metadata": {},
   "outputs": [
    {
     "data": {
      "text/plain": [
       "==========================================================================================\n",
       "Layer (type:depth-idx)                   Output Shape              Param #\n",
       "==========================================================================================\n",
       "Classifier                               --                        --\n",
       "├─Encoder: 1-1                           [128, 113842, 4]          --\n",
       "│    └─Linear: 2-1                       [128, 113842, 15]         465\n",
       "│    └─ReLU: 2-2                         [128, 113842, 15]         --\n",
       "│    └─Linear: 2-3                       [128, 113842, 8]          128\n",
       "│    └─ReLU: 2-4                         [128, 113842, 8]          --\n",
       "│    └─Linear: 2-5                       [128, 113842, 4]          36\n",
       "│    └─ReLU: 2-6                         [128, 113842, 4]          --\n",
       "├─DNN: 1-2                               [128, 113842, 1]          --\n",
       "│    └─Linear: 2-7                       [128, 113842, 4]          20\n",
       "│    └─LeakyReLU: 2-8                    [128, 113842, 4]          --\n",
       "│    └─Linear: 2-9                       [128, 113842, 1]          5\n",
       "│    └─LeakyReLU: 2-10                   [128, 113842, 1]          --\n",
       "│    └─Sigmoid: 2-11                     [128, 113842, 1]          --\n",
       "==========================================================================================\n",
       "Total params: 654\n",
       "Trainable params: 654\n",
       "Non-trainable params: 0\n",
       "Total mult-adds (M): 0.08\n",
       "==========================================================================================\n",
       "Input size (MB): 1748.61\n",
       "Forward/backward pass size (MB): 3730.37\n",
       "Params size (MB): 0.00\n",
       "Estimated Total Size (MB): 5478.99\n",
       "=========================================================================================="
      ]
     },
     "execution_count": 74,
     "metadata": {},
     "output_type": "execute_result"
    }
   ],
   "source": [
    "# 모델이 잘 적합되었는지 확인\n",
    "model2=Classifier()\n",
    "model2.to(device)\n",
    "summary(Classifier(), (128, 113842,30))"
   ]
  },
  {
   "cell_type": "markdown",
   "metadata": {},
   "source": [
    "### 일단 DNN 으로 그냥 분류를 진행해보자"
   ]
  },
  {
   "cell_type": "code",
   "execution_count": 75,
   "metadata": {},
   "outputs": [
    {
     "name": "stderr",
     "output_type": "stream",
     "text": [
      "/home/ppleeqq/.local/lib/python3.6/site-packages/torch/nn/modules/loss.py:529: UserWarning: Using a target size (torch.Size([128])) that is different to the input size (torch.Size([128, 1])) is deprecated. Please ensure they have the same size.\n",
      "  return F.binary_cross_entropy(input, target, weight=self.weight, reduction=self.reduction)\n"
     ]
    },
    {
     "name": "stdout",
     "output_type": "stream",
     "text": [
      "예상완료시각: 2023-07-24 11:24:11.745842\n",
      "Epoch: 0, Average Loss: 0.393765\n",
      "Epoch: 1, Average Loss: 0.217385\n",
      "Epoch: 2, Average Loss: 0.149839\n",
      "Epoch: 3, Average Loss: 0.114914\n",
      "Epoch: 4, Average Loss: 0.093662\n",
      "Epoch: 5, Average Loss: 0.079395\n",
      "Epoch: 6, Average Loss: 0.069162\n",
      "Epoch: 7, Average Loss: 0.061470\n",
      "Epoch: 8, Average Loss: 0.055481\n",
      "Epoch: 9, Average Loss: 0.050686\n",
      "Epoch: 10, Average Loss: 0.046737\n",
      "Epoch: 11, Average Loss: 0.043467\n",
      "Epoch: 12, Average Loss: 0.040699\n",
      "Epoch: 13, Average Loss: 0.038327\n",
      "Epoch: 14, Average Loss: 0.036255\n",
      "Epoch: 15, Average Loss: 0.034458\n",
      "Epoch: 16, Average Loss: 0.032871\n",
      "Epoch: 17, Average Loss: 0.031445\n",
      "Epoch: 18, Average Loss: 0.030168\n",
      "Epoch: 19, Average Loss: 0.029021\n",
      "Model saved at ./ae_save_models/classification_DNN_Fraud_07_24_11_24.pt\n"
     ]
    }
   ],
   "source": [
    "#손실함수, optimizer 정의\n",
    "# 손실함수 선택할 때, 오토인코더니까 mse loss나 로 정의했지만\n",
    "# dnn 할 때는 binary classification이니까 binary cross entropy loss로 해보자\n",
    "model_dnn=DNN(30).to(device)\n",
    "criterion = nn.BCELoss().to(device)\n",
    "optimizer = torch.optim.Adam(model_dnn.parameters(), lr=lr)\n",
    "\n",
    "\n",
    "model_dnn.train()\n",
    "total_loss = 0.0\n",
    "total_batches = 0\n",
    "average_loss=[]\n",
    "\n",
    "# 학습\n",
    "if Train : \n",
    "    for epoch in range(epochs):\n",
    "        now1=datetime.datetime.now()\n",
    "        for x,y in train_dataloader:\n",
    "            x = x.to(device)\n",
    "            y = y.to(device)\n",
    "            \n",
    "            #모델 파라미터의 gradient 초기화\n",
    "            optimizer.zero_grad()\n",
    "            \n",
    "            output = model_dnn(x)\n",
    "            #loss 계산\n",
    "            loss = criterion(output, y)\n",
    "            #loss를 사용해 backpropagation으로 gradient 계산\n",
    "            loss.backward()\n",
    "            #계산한 gradient로 모델의 parameter 업데이트\n",
    "            optimizer.step()\n",
    "\n",
    "            total_loss += loss.item()\n",
    "            total_batches += 1\n",
    "\n",
    "        if epoch==0: \n",
    "            now2=datetime.datetime.now()\n",
    "            print(f\"예상완료시각: {now2+(now2-now1)*epochs}\")    \n",
    "        average_loss.append(total_loss / total_batches)\n",
    "        print(f\"Epoch: {epoch}, Average Loss: {total_loss / total_batches:.6f}\")\n",
    "\n",
    "    now=datetime.datetime.now()\n",
    "    formatted=now.strftime('%m_%d_%H_%M')\n",
    "\n",
    "    model_name = f'classification_DNN_Fraud_{formatted}.pt'\n",
    "    torch.save(model_dnn.state_dict(),  model_path + model_name)\n",
    "    print(f'Model saved at { model_path + model_name}')\n",
    "\n",
    "else:\n",
    "    model_name = f'classification_DNN_Fraud_07_06_13_48.pt'\n",
    "    model_dnn.load_state_dict(torch.load( model_path +  model_name))\n",
    "    print('model parameter: ',model_dnn.parameters())\n",
    "\n"
   ]
  },
  {
   "cell_type": "code",
   "execution_count": 76,
   "metadata": {},
   "outputs": [
    {
     "data": {
      "image/png": "[encoded data removed]",
      "text/plain": [
       "<Figure size 432x288 with 1 Axes>"
      ]
     },
     "metadata": {
      "needs_background": "light"
     },
     "output_type": "display_data"
    }
   ],
   "source": [
    "# loss가 잘 줄어드는지 확인\n",
    "plt.figure()\n",
    "plt.plot(average_loss)\n",
    "plt.xlabel('Iteration')\n",
    "plt.ylabel('Loss')\n",
    "plt.title('Training Loss Curve')\n",
    "plt.show()"
   ]
  },
  {
   "cell_type": "code",
   "execution_count": 94,
   "metadata": {},
   "outputs": [
    {
     "name": "stdout",
     "output_type": "stream",
     "text": [
      "[0.0008926435839384794, 0.0009836190147325397, 0.0009935748530551791, 0.00092420814326033, 0.000936736527364701, 0.0009742113179527223, 0.0009760779794305563, 0.0013302324805408716, 0.000858943909406662, 0.0010905603412538767, 0.0008675191784277558, 0.001092847203835845, 0.0012636736501008272, 0.0012451326474547386, 0.0010516699403524399, 0.000938544690143317, 0.0010898240143433213, 0.000975977978669107, 0.0008834897889755666, 0.0008906750590540469, 0.0011240644380450249, 0.0008197207935154438, 0.000897836172953248, 0.0007858460303395987, 0.0013328874483704567, 0.000858629762660712, 0.0010881428606808186, 0.0009767597075551748, 0.0010513007873669267, 0.0011508535826578736, 0.001108192722313106, 0.0008934008656069636, 0.001011410728096962, 0.0009510171366855502, 0.000986010185442865, 0.000990983215160668, 0.0010199550306424499, 0.0010288459016010165, 0.0010796501301229, 0.0011854598997160792, 0.0010961765656247735, 0.0009203364024870098, 0.000989634427241981, 0.001016399939544499, 0.0010416866280138493, 0.0010873108403757215, 0.0009465429466217756, 0.001170340576209128, 0.0014001141535118222, 0.0009350957698188722, 0.0009568065870553255, 0.0009160059853456914, 0.0009224358946084976, 0.0007532953750342131, 0.0009266452398151159, 0.0009915332775563002, 0.0012787604937329888, 0.0007979231304489076, 0.0010742832673713565, 0.0008859863737598062, 0.0010340814478695393, 0.0011339896591380239, 0.0009625321254134178, 0.0011651398381218314, 0.001043155905790627, 0.0009662506054155529, 0.0009783360874280334, 0.0008556070970371366, 0.0009482065215706825, 0.0010240874253213406, 0.0008697364828549325, 0.001106341602280736, 0.0010392293334007263, 0.0012141874758526683, 0.00083538907347247, 0.001104803872294724, 0.0008174084941856563, 0.001229679910466075, 0.0008563497103750706, 0.000630115217063576, 0.0011355301830917597, 0.0011450584279373288, 0.0008988925837911665, 0.0007635745569132268, 0.0009639605414122343, 0.000916687014978379, 0.0008898505475372076, 0.0010212433990091085, 0.0008579431450925767, 0.0008214096887968481, 0.0009640073985792696, 0.0010757066775113344, 0.000807316682767123, 0.0008483539568260312, 0.0013407416408881545, 0.0012521930038928986, 0.001127770054154098, 0.001181831699796021, 0.0011051555629819632, 0.001316717709414661, 0.0009592687711119652, 0.0010326815536245704, 0.001127147115767002, 0.0006248671561479568, 0.0008914541685953736, 0.000982803525403142, 0.0008931944612413645, 0.0009274424519389868, 0.0009477928397245705, 0.0009250079747289419, 0.001048439764417708, 0.0011748995166271925, 0.000916687014978379, 0.0009477007552050054, 0.0008158090058714151, 0.0009659515344537795, 0.0009149265824817121, 0.0009878070559352636, 0.0007722761947661638, 0.0010072937002405524, 0.001155457692220807, 0.0011061239056289196, 0.0008191628730855882, 0.0008592747035436332, 0.0008433584007434547, 0.001121746376156807, 0.0014316377928480506, 0.0009193928563036025, 0.0008591687073931098, 0.0010067506227642298, 0.0010147802531719208, 0.0012351154582574964, 0.0010658259270712733, 0.000998879550024867, 0.0009206766844727099, 0.0009756055660545826, 0.000978071358986199, 0.0011548487236723304, 0.001282200333662331, 0.0009274163166992366, 0.0009976759320124984, 0.0010528845014050603, 0.0009670431027188897, 0.0008503427961841226, 0.0009535762364976108, 0.001113771228119731, 0.0011343241203576326, 0.0011168650817126036, 0.0013517237966880202, 0.0010500287171453238, 0.0010608091251924634, 0.0008928847964853048, 0.0009220176143571734, 0.0008629842777736485, 0.0009921664604917169, 0.0008959408150985837, 0.0009649879648350179, 0.0009695195476524532, 0.000856697850394994, 0.0010112585732713342, 0.0010160988895222545, 0.0009657485643401742, 0.0010649252217262983, 0.001104811322875321, 0.0010832090629264712, 0.0008759049233049154, 0.0011094348737969995, 0.0010148107539862394, 0.001194073585793376, 0.0009406763128936291, 0.0009518616134300828, 0.0009618749027140439, 0.0014087891904637218, 0.0009228262933902442, 0.0009179275948554277, 0.0013050851412117481, 0.0007870266563259065, 0.0009313949849456549, 0.0008505915757268667, 0.001080779475159943, 0.000896336161531508, 0.0012645003153011203, 0.0008762058569118381, 0.0009943164186552167, 0.0010088259587064385, 0.0011440090602263808, 0.0009055280825123191, 0.0010656852973625064, 0.0009709940641187131, 0.0010680004488676786, 0.0009771352633833885, 0.0010233803186565638, 0.0010411955881863832, 0.0009333511698059738, 0.0009248810820281506, 0.000903524283785373, 0.001136662671342492, 0.0011108593316748738, 0.0009795547230169177, 0.001317974179983139, 0.0010086875408887863, 0.001122801098972559, 0.0008715051226317883, 0.001055729459039867, 0.0011274950811639428, 0.0009501395979896188, 0.0008757430477999151, 0.0008799192728474736, 0.0010428925743326545, 0.0011062414851039648, 0.0010220444528385997, 0.0009650991414673626, 0.0011914665810763836, 0.0009421141585335135, 0.0010694732191041112, 0.0008167898049578071, 0.0009898475836962461, 0.0013422645861282945, 0.0009610966080799699, 0.0010284975869581103, 0.0010227574966847897, 0.0009672665619291365, 0.0007363958866335452, 0.0011114495573565364, 0.0010300811845809221, 0.0008567745098844171, 0.0011492179473862052, 0.0008354551973752677, 0.0008545597083866596, 0.0010735016549006104, 0.0010162213584408164, 0.001030870946124196, 0.0009661176009103656, 0.0011818243656307459, 0.0010590542806312442, 0.0009071588283404708, 0.0008066784357652068, 0.0010362693574279547, 0.0008995745447464287, 0.0010260058334097266, 0.0008845533011481166, 0.000929110508877784, 0.001134877442382276, 0.0010934637393802404, 0.0012046695919707417, 0.0012122904881834984, 0.0011986038880422711, 0.0009625784587115049, 0.00106759462505579, 0.000949411594774574, 0.0011384370736777782, 0.0009307620930485427, 0.0010603271657600999, 0.0009214130113832653, 0.0009706999408081174, 0.0009291910100728273, 0.0010474534938111901, 0.0009296971256844699, 0.0009085355559363961, 0.0009732511825859547, 0.0012780969263985753, 0.0011447388678789139, 0.0011618026765063405, 0.0009753556223586202, 0.0011163364397361875, 0.0008821317460387945, 0.0009573673596605659, 0.0007845934596844018, 0.0008003478869795799, 0.0012047563213855028, 0.0009436642285436392, 0.0011091490741819143, 0.0010034149745479226, 0.001109020202420652, 0.0008927095332182944, 0.001116545987315476, 0.0010278054978698492, 0.0012029593344777822, 0.0009813654469326138, 0.000994510599412024, 0.0009314354392699897, 0.000923415063880384, 0.0009412012295797467, 0.0010163660626858473, 0.0011044350685551763, 0.0008927567396312952, 0.0007994385086931288, 0.0007912672590464354, 0.0007786545902490616, 0.0009702519164420664, 0.001010539592243731, 0.0010884363437071443, 0.001009579747915268, 0.0008909564930945635, 0.0009230350842699409, 0.0012406535679474473, 0.0009293260518461466, 0.0008253247360698879, 0.0010603105183690786, 0.0009290834423154593, 0.0010841458570212126, 0.0009167162352241576, 0.00091301288921386, 0.0009235589532181621, 0.0007374116685241461, 0.0009334839996881783, 0.0009598360629752278, 0.0008858424844220281, 0.0012741053942590952, 0.0009581663180142641, 0.0009308565058745444, 0.0011606357293203473, 0.000892070063855499, 0.00106083694845438, 0.0008865200215950608, 0.0009996835142374039, 0.0012761116959154606, 0.0010311233345419168, 0.0010051415301859379, 0.001072764047421515, 0.0010340445442125201, 0.0012553700944408774, 0.0010605211136862636, 0.0010035742307081819, 0.0012383867288008332, 0.0009083529585041106, 0.000943535182159394, 0.0009917245479300618, 0.0010478476760908961, 0.0010246338788419962, 0.0011896425858139992, 0.0009186569368466735, 0.0009391466737724841, 0.0009573641000315547, 0.00107194681186229, 0.001212292700074613, 0.0008786830585449934, 0.0012203400256112218, 0.0013825122732669115, 0.0009883915772661567, 0.0011313564609736204, 0.0008696623262949288, 0.0010862444760277867, 0.00098620040807873, 0.0008907412993721664, 0.0012710593873634934, 0.0010795950656756759, 0.0009935598354786634, 0.0012512786779552698, 0.0011464625131338835, 0.0012839852133765817, 0.0007824651547707617, 0.0008945295121520758, 0.0008743189973756671, 0.0009402036666870117, 0.0010393699631094933, 0.0009807513561099768, 0.000820661021862179, 0.0009676066692918539, 0.0012088611256331205, 0.0010380418971180916, 0.0009036835981532931, 0.0009592139977030456, 0.0008833883912302554, 0.0012860457645729184, 0.0008403967367485166, 0.0008410736336372793, 0.0009629912674427032, 0.0011727319797500968, 0.0008984394953586161, 0.0008962119463831186, 0.0011172716040164232, 0.0010549221187829971, 0.0007596749346703291, 0.0008234927663579583, 0.0008885721326805651, 0.0009707641438581049, 0.0009704119293019176, 0.0009309026645496488, 0.0011716819135472178, 0.0011527988826856017, 0.0010964982211589813, 0.0010904382215812802, 0.0007978950161486864, 0.0011062024859711528, 0.001051437109708786, 0.0012960884487256408, 0.0010790310334414244, 0.000921603525057435, 0.0009013295057229698, 0.0009895312832668424, 0.0011647086357697845, 0.0006686421111226082, 0.0008221681346185505, 0.0008453364716842771, 0.0013238221872597933, 0.0009684500400908291, 0.0010235118679702282, 0.0010857597226276994, 0.0012344926362857223, 0.0010273595107719302, 0.0010150533635169268, 0.0011155204847455025, 0.0010722735896706581, 0.0006215847097337246, 0.001008183229714632, 0.0011108709732070565, 0.0008416648488491774, 0.0008956216042861342, 0.0009219245403073728, 0.0010759475408121943, 0.000940964906476438, 0.0009753155172802508, 0.001270574051886797, 0.0010944782989099622, 0.0008558150148019195, 0.0009277217322960496, 0.0011787299299612641, 0.0009882347658276558, 0.0009897137060761452, 0.0009630691492930055, 0.0010797164868563414, 0.0012268610298633575, 0.0008774477173574269, 0.0008059311658143997, 0.0009224825189448893, 0.0009922250173985958, 0.0007869168766774237, 0.0007720672292634845, 0.0007078095222823322, 0.0009279409423470497, 0.0010394621640443802, 0.0010745467152446508, 0.0011379556963220239, 0.0009728234144859016, 0.0010425226064398885, 0.0012974136043339968, 0.0012037759879603982, 0.0009592490969225764, 0.0010933778248727322, 0.0008134390809573233, 0.001084397896192968, 0.0009351925109513104, 0.0009481414454057813, 0.0008840076625347137, 0.0008908763411454856, 0.0011108069447800517, 0.0010197199881076813, 0.0009734153863973916, 0.0010283711599186063, 0.0009057355928234756, 0.0008683925261721015, 0.0010997101198881865, 0.0009305736748501658, 0.0011442243121564388, 0.0010940179927274585, 0.0011270532850176096, 0.0006004273891448975, 0.001010759617201984, 0.001027549966238439, 0.0010557591449469328, 0.0009782824199646711, 0.001254424685612321, 0.0008836771594360471, 0.0008448089356534183, 0.0010843116324394941, 0.0009698720532469451, 0.0008707136730663478, 0.0008294845465570688, 0.001340548973530531, 0.0007433223072439432, 0.0009573331335559487, 0.0008176697883754969, 0.0010965248802676797, 0.0010107855778187513, 0.0012888904893770814, 0.0007533294847235084, 0.0008145040483213961, 0.0010654685320332646, 0.0010333724785596132, 0.0010046211536973715, 0.0008407098357565701, 0.0009251151350326836, 0.0008304441580548882, 0.0008091662311926484, 0.0009234916651621461, 0.0012629901757463813, 0.0009271822636947036, 0.0010918633779510856, 0.0009601900819689035, 0.0010177211370319128, 0.0008742001955397427, 0.0010859976755455136, 0.0010964192915707827, 0.0010910580167546868, 0.0012731258757412434, 0.0010186926228925586, 0.0009211786091327667, 0.000924663501791656, 0.0008540013222955167, 0.0012365150032564998, 0.0010289032943546772, 0.0014062203699722886, 0.0009680100483819842, 0.0010134185431525111, 0.0010060573695227504, 0.0008833606261759996, 0.0010006341617554426, 0.0010878946632146835, 0.0009602102218195796, 0.0009723734110593796, 0.0009683227981440723, 0.0010519950883463025, 0.0011828385759145021, 0.0011924635618925095, 0.0009754167986102402, 0.0012137392768636346, 0.0011565468739718199, 0.0008056443766690791, 0.0010363117326050997, 0.0011825585970655084, 0.0013223686255514622, 0.0011524832807481289, 0.0009907381609082222, 0.001001233933493495, 0.001376076485030353, 0.000908433401491493, 0.0008341129287146032, 0.0012128493981435895, 0.0009301716345362365, 0.0010841789189726114, 0.0010930851567536592, 0.0010068307165056467, 0.0008707083179615438, 0.0011365164536982775, 0.00127929646987468, 0.0009587543900124729, 0.0010199813405051827, 0.0010190493194386363, 0.0011775711318477988, 0.00112643011379987, 0.0006789525505155325, 0.0008299968321807683, 0.00080317840911448, 0.0009236310725100338, 0.0009436804102733731, 0.0009299266384914517, 0.0012905353214591742, 0.0009051355882547796, 0.000997629831545055, 0.0009846260072663426, 0.000836310675367713, 0.0008419998339377344, 0.000989056657999754, 0.0009812330827116966, 0.001167450682260096, 0.0009912801906466484, 0.0010935991303995252, 0.0010480433702468872, 0.0009520914754830301, 0.0011865586275234818, 0.0008771033608354628, 0.0013219020329415798, 0.0011037950171157718, 0.0009230279829353094, 0.0007952201995067298, 0.0010769817745313048, 0.0010214929934591055, 0.0009066590573638678, 0.0007488963310606778, 0.0009790559997782111, 0.0007527148700319231, 0.0012308722361922264, 0.00104831054341048, 0.0012254092143848538, 0.000889423827175051, 0.0009082598844543099, 0.0011166059412062168, 0.0009242125670425594, 0.0011517495149746537, 0.0012218044139444828, 0.001072154613211751, 0.0012561188777908683, 0.0008736382587812841, 0.0008990415371954441, 0.0010351001983508468, 0.0010390646057203412, 0.0007990786689333618, 0.0010035393061116338, 0.001033878535963595, 0.000959512370172888, 0.0009949530940502882, 0.001096978783607483, 0.0009496432030573487, 0.0010476874886080623, 0.0012284062104299664, 0.0008516227244399488, 0.0009487849310971797, 0.0009489792864769697, 0.0011471573961898685, 0.0009743283735588193, 0.0010476774768903852, 0.001231821021065116, 0.0008927452727220953, 0.0010074010351672769, 0.0011433925246819854, 0.0012667501578107476, 0.0009765010327100754, 0.0013184588169679046, 0.0009073313558474183, 0.0011338600888848305, 0.0010716206161305308, 0.0008365281973965466, 0.0008641832391731441, 0.0012488525826483965, 0.000994423869997263, 0.0011364455567672849, 0.0009729100856930017, 0.0010010965634137392, 0.001014768611639738, 0.0008440578239969909, 0.0009728085133247077, 0.0010403319029137492, 0.000960386882070452, 0.0007186596048995852, 0.0008106626919470727, 0.0009463662863709033, 0.0010521088261157274, 0.0012347878655418754, 0.0011602394515648484, 0.0011409791186451912, 0.0012470833025872707, 0.0011287783272564411, 0.001184219028800726, 0.001138931605964899, 0.0009081037133000791, 0.0009581923368386924, 0.0008638938306830823, 0.0008408432477153838, 0.0012622145004570484, 0.0009809905895963311, 0.001130096148699522, 0.0011658708099275827, 0.0009446956100873649, 0.001090034726075828, 0.0009690753649920225, 0.0012655948521569371, 0.0009778458625078201, 0.0009840280981734395, 0.001141281332820654, 0.001088118413463235, 0.0012362475972622633, 0.0009167205425910652, 0.0012239166535437107, 0.0009345011785626411, 0.000984118552878499, 0.0010901115601882339, 0.0008358462364412844, 0.0007777739083394408, 0.001071576145477593, 0.001103391870856285, 0.0008441173122264445, 0.0010283583542332053, 0.0005793093587271869, 0.0010506986873224378, 0.001091804588213563, 0.0009716186905279756, 0.0008464426500722766, 0.0009513271506875753, 0.0009737673681229353, 0.001052513369359076, 0.000810053781606257, 0.0011040768586099148, 0.0010335319675505161, 0.0011229042429476976, 0.0009547016816213727, 0.0009314908529631793, 0.0008177267154678702, 0.001435831538401544, 0.0009976859437301755, 0.0009565878426656127, 0.0009690001606941223, 0.0009390997583977878, 0.0010981749510392547, 0.0009180553024634719, 0.0010015821317210793, 0.0009357936214655638, 0.0009589001419954002, 0.0010933007579296827, 0.0010870787082239985, 0.0010552533203735948, 0.0012687679845839739, 0.0008772484143264592, 0.0009558716556057334, 0.0010975332697853446, 0.0008803411037661135, 0.0009422473376616836, 0.0010431419359520078, 0.0008064001449383795, 0.0009812710341066122, 0.0009202833753079176, 0.0008210157393477857, 0.0009966869838535786, 0.0008110861526802182, 0.0011566294124349952, 0.001117441221140325, 0.0009774556383490562, 0.0009734671912156045, 0.0010787181090563536, 0.0008031968609429896, 0.001241093734279275, 0.0008933395729400218, 0.0010530444560572505, 0.0010587985161691904, 0.0012543434277176857, 0.0010291601065546274, 0.0010079214116558433, 0.0010708924382925034, 0.0008833168540149927, 0.0010312643134966493, 0.0009217892657034099, 0.0012130297254770994, 0.0008711074478924274, 0.0011687400983646512, 0.0008931689662858844, 0.0010057358304038644, 0.0010674481745809317, 0.0010597455548122525, 0.0010662234853953123, 0.0009727172437123954, 0.0010568021098151803, 0.0011290035909041762, 0.0009822447318583727, 0.0009580192854627967, 0.000885531073436141, 0.0009239607024937868, 0.0009241795050911605, 0.0008692439296282828, 0.0010319286957383156, 0.000996218528598547, 0.001065651304088533, 0.0009358582901768386, 0.0008972568321041763, 0.001060759648680687, 0.00106355594471097, 0.0009083680342882872, 0.0010865807998925447, 0.0010462920181453228, 0.0012780828401446342, 0.0008989160414785147, 0.0011365516111254692, 0.0010849465616047382, 0.000913540308829397, 0.001106482814066112, 0.0008165112230926752, 0.0010360743617638946, 0.0010215864749625325, 0.0008742727222852409, 0.0008435054332949221, 0.0010536701884120703, 0.0010799550218507648, 0.0011010519228875637, 0.0012417022371664643, 0.0012110231909900904, 0.001121743698604405, 0.0011467153672128916, 0.0010969140566885471, 0.001133699668571353, 0.0008671224932186306, 0.0012447722256183624, 0.0010269543854519725, 0.001116761821322143, 0.001070322236046195, 0.0010527761187404394, 0.0011913854395970702, 0.001155976322479546, 0.0011687768856063485, 0.0012365762377157807, 0.0010089013958349824, 0.0010272368090227246, 0.0008834552718326449, 0.0011378516210243106, 0.0009178983746096492, 0.001453850301913917, 0.0010540054645389318, 0.0008154188981279731, 0.0009155204170383513, 0.0009161207126453519, 0.0009931732201948762, 0.0009844847954809666, 0.0009126250515691936, 0.0011628014035522938, 0.001050392398610711, 0.0010924418456852436, 0.0010682105785235763, 0.001089332508854568, 0.001188913476653397, 0.0010838535381481051, 0.0008120578713715076, 0.0012998984893783927, 0.0011161471484228969, 0.0010434804717078805, 0.001429057912901044, 0.0011485504219308496, 0.0008886517025530338, 0.0011673910776153207, 0.0009509501396678388, 0.0009613952715881169, 0.0009997269371524453, 0.0008388733258470893, 0.0009449804783798754, 0.0009133592247962952, 0.0012388486647978425, 0.00089999072952196, 0.001057100249454379, 0.0009962498443201184, 0.0012514073168858886, 0.0010108472779393196, 0.0009279157384298742, 0.0013067007530480623, 0.0010972745949402452, 0.001041179639287293, 0.0011325248051434755, 0.000888312584720552, 0.0010932220611721277, 0.0010208742460235953, 0.0009936402784660459, 0.0010734944371506572, 0.001155228354036808, 0.0010888817487284541, 0.0008765728562138975, 0.0014108702307567, 0.0013175480999052525, 0.001207200693897903, 0.0010406807996332645, 0.001006138394586742, 0.0011489148018881679, 0.001296404399909079, 0.0008708734530955553, 0.0009310445166192949, 0.00106113962829113, 0.0011153484228998423, 0.0014099656837061048, 0.001055606291629374, 0.0010892774444073439, 0.0010511266300454736, 0.000791674479842186, 0.0007012709975242615, 0.0009575019939802587, 0.0009995602304115891, 0.0010748078348115087, 0.0007989297737367451, 0.0008371688891202211, 0.000953943352214992, 0.000817577529232949, 0.0009722043760120869, 0.000850827491376549, 0.001116540632210672, 0.0009178803884424269, 0.0007366629433818161, 0.0011380017967894673, 0.0008805798715911806, 0.000901981140486896, 0.0011020530946552753, 0.0012033919338136911, 0.0008829722064547241, 0.001177784288302064, 0.0014973590150475502, 0.0008730082772672176, 0.0008761666249483824, 0.0012672016164287925, 0.0008174115791916847, 0.0010397329460829496, 0.0010098423808813095, 0.0009962298208847642, 0.000977997318841517, 0.0012252330780029297, 0.001215401221998036, 0.0010020913323387504, 0.0011022825492545962, 0.0012407753383740783, 0.001023701042868197, 0.0010304924799129367, 0.0009976821020245552, 0.0009751924662850797, 0.0010657665552571416, 0.0012540030293166637, 0.0010796233545988798, 0.0008654336561448872, 0.0012295187916606665, 0.0010660432744771242, 0.0009640055941417813, 0.0010031305719166994, 0.0010170344030484557, 0.001011159736663103, 0.0009890076471492648, 0.001107888761907816, 0.0010041403584182262, 0.0008978692349046469, 0.0011123885633423924, 0.0011464685667306185, 0.0009455275721848011, 0.0009590010740794241, 0.0011048243613913655, 0.0009685755358077586, 0.000917096680495888, 0.0009835734963417053, 0.0009828803595155478, 0.0010459556942805648, 0.0008423717226833105, 0.001162999076768756, 0.0010368797229602933, 0.0011402751551941037, 0.0010547934798523784, 0.001100648194551468, 0.0009087779908441007, 0.0009133975836448371, 0.0008577898843213916, 0.0012664702953770757, 0.0007276231190189719, 0.0008960411068983376, 0.0009547439403831959, 0.0011251464020460844, 0.0008099207188934088, 0.0012377846287563443, 0.000990192755125463, 0.0011601444566622376, 0.0008576117688789964, 0.0008902474655769765, 0.0011062941048294306, 0.0008474139031022787, 0.0009838223922997713, 0.0010522984666749835, 0.0011549795744940639, 0.0007869840483181179, 0.0009984861826524138, 0.0011649717343971133, 0.0012015026295557618, 0.0009797384263947606, 0.0012206475948914886, 0.0012342969421297312, 0.0011031890753656626, 0.0008641774184070528, 0.0010635467479005456, 0.0008317164028994739, 0.0009479580912739038, 0.0010566702112555504, 0.0010941536165773869, 0.001167617505416274, 0.0008701206534169614, 0.001058276160620153, 0.0009989533573389053, 0.0009992884006351233, 0.0010178781813010573, 0.001150835887528956, 0.0009881793521344662, 0.0009228464332409203, 0.0008786366088315845, 0.0008517890819348395, 0.0011025193380191922, 0.001029289560392499, 0.0010709459893405437, 0.0008825230761431158, 0.001165491179563105, 0.0010133662726730108, 0.0009123373311012983, 0.0007402343326248229, 0.000911642040591687, 0.000883233908098191, 0.0010287538170814514, 0.0009500590385869145, 0.001104016904719174, 0.0010928373085334897, 0.001052919658832252, 0.0010016598971560597, 0.0012069247895851731, 0.0010177147341892123, 0.000942796585150063, 0.0010734908282756805, 0.0009712725295685232, 0.0010765156475827098, 0.0010535342153161764, 0.0009330617031082511, 0.0009289428126066923, 0.0010830124374479055, 0.0011122804135084152, 0.0008947016322053969, 0.000957775569986552, 0.0008151376969181001, 0.0008625095360912383, 0.0008861628011800349, 0.0009680436924099922, 0.0011292255949229002, 0.0008885377319529653, 0.0010743860621005297, 0.0010330422082915902, 0.0008628999930806458, 0.001029050792567432, 0.0012075986014679074, 0.0010030451230704784, 0.000987425446510315, 0.0009164490038529038, 0.0009734431514516473, 0.0011248200898990035, 0.0009388278122060001, 0.0011357518378645182, 0.0011160648427903652, 0.001362290233373642, 0.0009808784816414118, 0.0009957639267668128, 0.0011727922828868032, 0.0008836750639602542, 0.0011182911694049835, 0.0008763477671891451, 0.0011303540086373687, 0.0009554114658385515, 0.0007793527329340577, 0.0011665539350360632, 0.001118945423513651, 0.0008924650610424578, 0.0009719241643324494, 0.0012256690533831716, 0.000526276184245944, 0.0013669735053554177, 0.001065064687281847, 0.0010398508748039603, 0.000985966995358467, 0.0009664820972830057, 0.0009910407243296504, 0.0009377602837048471, 0.0009734918130561709, 0.0009335423237644136, 0.000908621761482209, 0.000928620167542249, 0.0011862721294164658, 0.001045422162860632, 0.0012791783083230257, 0.0009300267556682229, 0.0010714776581153274, 0.0007918650517240167, 0.0008703516214154661, 0.0008111745701171458, 0.0009887387277558446, 0.0010467148385941982, 0.001038394053466618, 0.0012655936880037189, 0.0009459438733756542, 0.001108875498175621, 0.0011221744352951646, 0.0010193450143560767, 0.0008838615613058209, 0.0009927465580403805, 0.001197707955725491, 0.0013487159740179777, 0.0012168139219284058, 0.0010482670040801167, 0.0014209002256393433, 0.0009294575429521501, 0.0008311764104291797, 0.0009071023087017238, 0.001278120675124228, 0.0009281898383051157, 0.0007174661732278764, 0.0010329998331144452, 0.001050618477165699, 0.0009157948079518974, 0.0012579393805935979, 0.0011538155376911163, 0.0008106426103040576, 0.001071470440365374, 0.0010275812819600105, 0.001169535331428051, 0.001057533430866897, 0.0008460193057544529, 0.0010447839740663767, 0.0010450732661411166, 0.0009965873323380947, 0.0014552680077031255, 0.001042153686285019, 0.0009861810831353068, 0.0010335545521229506, 0.0011751395650207996, 0.0008529192418791354, 0.0008529042243026197, 0.0011887084692716599, 0.0007839592872187495, 0.0009944451740011573, 0.0011019370285794139, 0.0008858829969540238, 0.0015914076939225197, 0.0010594755876809359, 0.0011013745097443461, 0.0009107227087952197, 0.0012359579559415579, 0.0009294089395552874, 0.0009642292279750109, 0.0011173897655680776, 0.0008804253884591162, 0.0011735707521438599, 0.0009724642732180655, 0.00094149901997298, 0.0008421065867878497, 0.00115617283154279, 0.0009019794524647295, 0.0011090185726061463, 0.0007845378131605685, 0.0007916187169030309, 0.0011640065349638462, 0.001039632479660213, 0.0009792331838980317, 0.0010044174268841743, 0.0011331215500831604, 0.0009427471086382866, 0.0009752370533533394, 0.0009442497394047678, 0.0010019209003075957, 0.0010694712400436401, 0.0009629022679291666, 0.0008466951549053192, 0.0009816992096602917, 0.0009338808595202863, 0.0012026969343423843, 0.0010851806728169322, 0.0011022089747712016, 0.0009585880907252431, 0.0009736657375469804, 0.0009455866529606283, 0.0011764331720769405, 0.001098770764656365, 0.0011664297198876739, 0.0010958805214613676, 0.0011649166699498892, 0.0011364704696461558, 0.0012445143656805158, 0.001063677598722279, 0.0009468613425269723, 0.0010589275043457747, 0.0012261810479685664, 0.001054176245816052, 0.0009181214263662696, 0.0010024617658928037, 0.0010663849534466863, 0.0010260947747156024, 0.0009901191806420684, 0.0008614471880719066, 0.0016132848104462028, 0.0008204838377423584, 0.000872159784194082, 0.000975291826762259, 0.0009376674424856901, 0.0009262329549528658, 0.0010544037213549018, 0.0011197840794920921, 0.0009971741819754243, 0.0011255526915192604, 0.0009682719828560948, 0.0010793755063787103, 0.001091296668164432, 0.0009290268644690514, 0.0010016541928052902, 0.0011522268177941442, 0.0009642067598178983, 0.0010006831726059318, 0.0010587635915726423, 0.0007012502173893154, 0.0010209841420874, 0.0008948547765612602, 0.0009733805782161653, 0.0008621319429948926, 0.0009789700852707028, 0.0011881522368639708, 0.0009146275697275996, 0.0012637670151889324, 0.001188335008919239, 0.0009667804697528481, 0.0009035664261318743, 0.0010757651180028915, 0.0008506629383191466, 0.0010413314448669553, 0.0008298777975142002, 0.0008653409313410521, 0.0010703365551307797, 0.0010436662705615163, 0.0008881175890564919, 0.0009632381261326373, 0.0009924594778567553, 0.0009377268142998219, 0.0011013179318979383, 0.0010839160531759262, 0.000945218198467046, 0.0009394215303473175, 0.0010328841162845492, 0.0010667076567187905, 0.0011517045786604285, 0.0010449616238474846, 0.00113806186709553, 0.0010289321653544903, 0.0010094301542267203, 0.0007952596060931683, 0.0009463964379392564, 0.0012463500024750829, 0.0009651644504629076, 0.0010239498224109411, 0.0008998895646072924, 0.0009582886123098433, 0.0010284921154379845, 0.0009880299912765622, 0.0008347740513272583, 0.0009985427604988217, 0.0009014325332827866, 0.0009544843342155218, 0.0009577710879966617, 0.0009962802287191153, 0.0009813248179852962, 0.0008877402287907898, 0.0008822368108667433, 0.0010075027821585536, 0.000987284816801548, 0.0010751673253253102, 0.0008464547572657466, 0.0008462293189950287, 0.0009866026230156422, 0.0010672813514247537, 0.0012345408322289586, 0.0010070897405967116, 0.0010711618233472109, 0.0008149842615239322, 0.0011615011608228087, 0.0008101816056296229, 0.0011294940486550331, 0.0010235533118247986, 0.000780245172791183, 0.0008434512419626117, 0.0010960038052871823, 0.0012354073114693165, 0.0009571451810188591, 0.0009038483840413392, 0.0011093164794147015, 0.0008326331153512001, 0.0009783887071534991, 0.0010055623715743423, 0.001126960851252079, 0.0010258019901812077, 0.0009098314912989736, 0.0009346633451059461, 0.0012426801258698106, 0.0009860181016847491, 0.0009241055813618004, 0.0008414916810579598, 0.0010571525199338794, 0.0011293659918010235, 0.0011742650531232357, 0.0010694956872612238, 0.0010873284190893173, 0.0010890949051827192, 0.0009353127097710967, 0.0009259087382815778, 0.0008190922089852393, 0.0008540960843674839, 0.000984462327323854, 0.0009820692939683795, 0.0009215917089022696, 0.0010927437106147408, 0.0010200687684118748, 0.0010115514742210507, 0.0013479461194947362, 0.001009289757348597, 0.0009897924028337002, 0.0009583716746419668, 0.0008915675571188331, 0.0009129311656579375, 0.0010140588274225593, 0.0008179110009223223, 0.0009113481501117349, 0.000912870338652283, 0.0009353100322186947, 0.0008347012335434556, 0.0010779277654364705, 0.0012219970813021064, 0.0014713368145748973, 0.001327292644418776, 0.0007784126792103052, 0.0012417028192430735, 0.0009549932437948883, 0.0010950968135148287, 0.0008590843644924462, 0.0009976475266739726, 0.000965143262874335, 0.00107769260648638, 0.0012666814727708697, 0.0010156899224966764, 0.0012952294200658798, 0.0009458222193643451, 0.0008375555044040084, 0.0011629831278696656, 0.0007331559318117797, 0.0009331030305474997, 0.0009817947866395116, 0.0009969110833480954, 0.0011507630115374923, 0.0009645389509387314, 0.001235385425388813, 0.0009166847448796034, 0.0009073918918147683, 0.001020394847728312, 0.0010442596394568682, 0.0009874446550384164, 0.0006995964795351028, 0.001087874872609973, 0.0012690327130258083, 0.0010278329718858004, 0.0009372878703288734, 0.0012129899114370346, 0.0010284539312124252, 0.0013695118250325322, 0.0009008345077745616, 0.0010234167566522956, 0.0009308605222031474, 0.0010151549940928817, 0.0010240961564704776, 0.0007357169524766505, 0.0010575283085927367, 0.0009513041004538536, 0.0010762925958260894, 0.0009369815816171467, 0.0011958794202655554, 0.0009168224059976637, 0.0011321062920615077, 0.0011131857754662633, 0.0011115691158920527, 0.0013700990239158273, 0.001223220257088542, 0.0010016513988375664, 0.0012020705034956336, 0.0013170406455174088, 0.0009062362951226532, 0.0009683212847448885, 0.0011823468375951052, 0.0010311405640095472, 0.001193922944366932, 0.00089895079145208, 0.0009107318473979831, 0.000916196615435183, 0.0011133734369650483, 0.0014286680379882455, 0.0010175926145166159, 0.0008920659311115742, 0.0006954723503440619, 0.0011072821216657758, 0.0011488063028082252, 0.0010107422713190317, 0.000870205694809556, 0.001094506005756557, 0.0010072811273857951, 0.0008636547136120498, 0.0010876517044380307, 0.0010127326240763068, 0.0009838134283199906, 0.0009014119277708232, 0.0008126685861498117, 0.0010139771038666368, 0.0008987127221189439, 0.0010494501329958439, 0.001280706375837326, 0.001071028527803719, 0.0011585260508581996, 0.0009878225391730666, 0.0009204472880810499, 0.0010799756273627281, 0.0009140992187894881, 0.0010014905128628016, 0.001026326441206038, 0.0009258986101485789, 0.0009118380257859826, 0.0009184840600937605, 0.0013642448466271162, 0.0008339523919858038, 0.0010989818256348372, 0.0011579131241887808, 0.0009215556201525033, 0.0007360917516052723, 0.0010314814280718565, 0.001181487343274057, 0.0010119437938556075, 0.0010335402330383658, 0.0009741537505760789, 0.0010982240783050656, 0.0009804744040593505, 0.0007805225905030966, 0.0009180456981994212, 0.0011871680617332458, 0.0010502722579985857, 0.0010656979866325855, 0.0007724226452410221, 0.0009919027797877789, 0.0012315213680267334, 0.0010304447496309876, 0.0013929303968325257, 0.0014379306230694056, 0.001007152022793889, 0.0007771812379360199, 0.000752301886677742, 0.0010290256468579173, 0.0010649667819961905, 0.0010171836474910378, 0.0010835366556420922, 0.0012528271181508899, 0.001235737930983305, 0.0008587986812926829, 0.0008444987470284104, 0.0009916848503053188, 0.0009034911054186523, 0.0009694701875559986, 0.0010166290448978543, 0.0010127424029633403, 0.0011477015214040875, 0.0008422400569543242, 0.0010305704781785607, 0.001098854118026793, 0.0009730643359944224, 0.0010756668634712696, 0.0009732808684930205, 0.0012888929340988398, 0.0009758096421137452, 0.0009198082843795419, 0.001104347757063806, 0.0010429497342556715, 0.0009904437465593219, 0.0012261810479685664, 0.0009319418459199369, 0.0012697846395894885, 0.0007625612779520452, 0.0009257869678549469, 0.0011906707659363747, 0.0007829973474144936, 0.0010932981967926025, 0.0008612182573415339, 0.0007487008115276694, 0.0007741849985904992, 0.0010160204255953431, 0.0010719376150518656, 0.0010676236124709249, 0.0008402097737416625, 0.0010428519453853369, 0.0011576175456866622, 0.0011159334098920226, 0.0007618523086421192, 0.000994423869997263, 0.0011532942298799753, 0.0009868127526715398, 0.000942068756558001, 0.0010137410135939717, 0.0010503033408895135, 0.0008970631752163172, 0.0008774957968853414, 0.000979103147983551, 0.0010079805506393313, 0.0010187051957473159, 0.0008339746273122728, 0.0011885380372405052, 0.0009243746171705425, 0.0009547871304675937, 0.0009004277526400983, 0.0008217635913752019, 0.0008965714951045811, 0.0008411518065258861, 0.0008602315210737288, 0.0011514187790453434, 0.0008964655571617186, 0.0012568214442580938, 0.0009059603908099234, 0.001108744996599853, 0.0009923819452524185, 0.0010618086671456695, 0.0009001224534586072, 0.0007239234982989728, 0.0013275961391627789, 0.0010302989976480603, 0.0008764216327108443, 0.0010746762854978442, 0.0009888692293316126, 0.001059542060829699, 0.0012449506903067231, 0.0012824410805478692, 0.0008030575700104237, 0.001020517316646874, 0.0009542142506688833, 0.0012700126972049475, 0.0011184861650690436, 0.0009132543345913291, 0.0009459065622650087, 0.000976982177235186, 0.0009183956426568329, 0.0008397263591177762, 0.0010571163147687912, 0.0007995241903699934, 0.0009128537494689226, 0.0010252026841044426, 0.0010435928124934435, 0.0013556868070736527, 0.0009515333804301918, 0.0010644489666447043, 0.0010825574863702059, 0.0010467426618561149, 0.0010947301052510738, 0.00100802315864712, 0.0010803543264046311, 0.0009420974529348314, 0.0009477228741161525, 0.0009100535535253584, 0.0008938398095779121, 0.0012883910676464438, 0.0013187677832320333, 0.001197831705212593, 0.0011831974843516946, 0.0009799223626032472, 0.0011182421585544944, 0.0009190136333927512, 0.0008994982927106321, 0.0010125736007466912, 0.0011970835039392114, 0.0009770795004442334, 0.0009033753303810954, 0.0010917208855971694, 0.0010612619807943702, 0.0009988559177145362, 0.0011409383732825518, 0.0009755893261171877, 0.0011015109485015273, 0.0009165887604467571, 0.0012716066557914019, 0.0009911545785143971, 0.001047329162247479, 0.0008835916523821652, 0.0010984489927068353, 0.0010480763157829642, 0.0009745548595674336, 0.001181514817290008, 0.0009483348694629967, 0.000990464468486607, 0.0009895481634885073, 0.0009810671908780932, 0.0009206105023622513, 0.0011704341741278768, 0.0009908679639920592, 0.0010260209674015641, 0.0009228161070495844, 0.0009931258391588926, 0.0008092090138234198, 0.0010768505744636059, 0.0011531695490702987, 0.0011607728665694594, 0.0010607885196805, 0.0009768896270543337, 0.0009740990935824811, 0.0014183943858370185, 0.0009796059457585216, 0.001018974115140736, 0.0013056526659056544, 0.000998056260868907, 0.0011853543110191822, 0.0013238864485174417, 0.0010799921583384275, 0.001067974022589624, 0.0007844813517294824, 0.0010242547141388059, 0.0008307643001899123, 0.0011024042032659054, 0.0008712124545127153, 0.0009769435273483396, 0.0009339774260297418, 0.0013023465871810913, 0.0012177397729828954, 0.0009530085953883827, 0.000899122969713062, 0.0010217975359410048, 0.0010210317559540272, 0.0008823948446661234, 0.0007815660210326314, 0.0011955013033002615, 0.0011095728259533644, 0.0014142750296741724, 0.0011510371696203947, 0.0010136980563402176, 0.0010109214344993234, 0.0010669627226889133, 0.0009431270882487297, 0.0009622667566873133, 0.0009319409145973623, 0.0010480079799890518, 0.0008880062960088253, 0.001098041539080441, 0.0008620133739896119, 0.0009095784625969827, 0.0007641768897883594, 0.0009618812473490834, 0.0010983544634655118, 0.0009318481315858662, 0.0011539716506376863, 0.001065915683284402, 0.0009534568525850773, 0.0010390462120994925, 0.0008108191541396081, 0.001040724921040237, 0.0011234794510528445, 0.0010047915857285261, 0.0010086102411150932, 0.001051843399181962, 0.0009950982639566064, 0.0011446974240243435, 0.0009624905069358647, 0.0010464107617735863, 0.0010071510914713144, 0.0013287162873893976, 0.0008441222016699612, 0.0010828959057107568, 0.001044112374074757, 0.0008609519572928548, 0.0007728761993348598, 0.0011098302202299237, 0.0010387868387624621, 0.0010389962699264288, 0.00077651790343225, 0.0010429790709167719, 0.0013454329455271363, 0.0009912182576954365, 0.0009508119546808302, 0.0009476966806687415, 0.0011120203416794538, 0.0009067467763088644, 0.000867796887177974, 0.0012596023734658957, 0.0010436971206218004, 0.001139830332249403, 0.0011474748607724905, 0.0010385815985500813, 0.0009309008601121604, 0.000994943780824542, 0.0008892700425349176, 0.0008409979054704309, 0.0010502192890271544, 0.0008696267032064497, 0.0011113150976598263, 0.0008049411117099226, 0.0009532783296890557, 0.000962114951107651, 0.0012493232497945428, 0.0010479046031832695, 0.0008736273157410324, 0.0011924998834729195, 0.0008964109001681209, 0.0006027851486578584, 0.0010808983352035284, 0.0009358529350720346, 0.0010196922812610865, 0.0009459331049583852, 0.0009311456815339625, 0.0010094215394929051, 0.0008407567511312664, 0.0010345806367695332, 0.0009039793512783945, 0.001173085649497807, 0.0008276212029159069, 0.0009001400321722031, 0.001129759824834764, 0.0010701034916564822, 0.0010716369142755866, 0.0011252809781581163, 0.0011749968398362398, 0.000906523026060313, 0.001027152524329722, 0.0010462228674441576, 0.0012988359667360783, 0.0009199226042255759, 0.0009858871344476938, 0.000948636734392494, 0.0012673469027504325, 0.0005203317268751562, 0.0009803015273064375, 0.0008020011009648442, 0.0008317726314999163, 0.001222305465489626, 0.001048896461725235, 0.0012301355600357056, 0.0009602174395695329, 0.0013031518319621682, 0.0009939370211213827, 0.0010316981934010983, 0.0009817081736400723, 0.00108506646938622, 0.001001040800474584, 0.001279153279028833, 0.00112793012522161, 0.001078908797353506, 0.0008452542824670672, 0.001170243020169437, 0.0010671487543731928, 0.0011309157125651836, 0.001080393441952765, 0.0011885171988978982, 0.0009830980561673641, 0.0010449602268636227, 0.0012837460963055491, 0.0011886467691510916, 0.0012162558268755674, 0.001084734103642404, 0.001051168655976653, 0.0006847431068308651, 0.0010262199211865664, 0.0012323890114203095, 0.0009906574850901961, 0.0008669262751936913, 0.0013829040108248591, 0.0009557696175761521, 0.0012482788879424334, 0.001151571748778224, 0.0007933990564197302, 0.0010914598824456334, 0.0010290364734828472, 0.001287459977902472, 0.0010769069194793701, 0.0011548283509910107, 0.0008697492885403335, 0.0012291044695302844, 0.0009357293602079153, 0.0010586930438876152, 0.0009279638761654496, 0.0013145580887794495, 0.0009219807689078152, 0.001077163964509964, 0.001035181456245482, 0.0011121194111183286, 0.000947598775383085, 0.0008410083828493953, 0.0009354650974273682, 0.0008000912494026124, 0.0011040789540857077, 0.0007838581223040819, 0.0009256383054889739, 0.000995358102954924, 0.0009282712126150727, 0.00107297720387578, 0.0011941457632929087, 0.0014297207817435265, 0.0008799675852060318, 0.0010949668940156698, 0.0008967564208433032, 0.0012228412088006735, 0.0008829553844407201, 0.0011823902605101466, 0.0007850391557440162, 0.001069336198270321, 0.001069573569111526, 0.0010243747383356094, 0.0011444177944213152, 0.0009940947638824582, 0.0012442932929843664, 0.0007667277823202312, 0.0010089004645124078, 0.0009498824365437031, 0.0009342884295620024, 0.0016510463319718838, 0.0010138361249119043, 0.0010881988564506173, 0.000865536741912365, 0.0007877537282183766, 0.0010990059236064553, 0.0009678417118266225, 0.0009379006223753095, 0.00131895556114614, 0.0010673296637833118, 0.0010362017201259732, 0.0010060550412163138, 0.0011456853244453669, 0.0009130591060966253, 0.0010651727207005024, 0.0010207414161413908, 0.0012159778270870447, 0.0007614748901687562, 0.0010080646025016904, 0.0008571840589866042, 0.0012135226279497147, 0.0011150159407407045, 0.0008820014772936702, 0.001243328908458352, 0.000950961431954056, 0.0012195545714348555, 0.0007804627530276775, 0.001096934312954545, 0.0010540918447077274, 0.0011108207982033491, 0.0008621627930551767, 0.0009801082778722048, 0.0010232969652861357, 0.0009877985576167703, 0.001035427558235824, 0.0012340130051597953, 0.000939585326705128, 0.0012850214261561632, 0.0010680722771212459, 0.0011369804851710796, 0.0010600221576169133, 0.0010896713938564062, 0.0009720266098156571, 0.0009673904860392213, 0.000845392351038754, 0.0010585725540295243, 0.0011193521786481142, 0.0011902216356247663, 0.001040804316289723, 0.0008817858761176467, 0.0009810967603698373, 0.000994610134512186, 0.0008967260946519673, 0.0009669974097050726, 0.0010448183165863156, 0.0009664724348112941, 0.0007773807737976313, 0.0009463255992159247, 0.0010844288626685739, 0.0010202816920354962, 0.0011879627127200365, 0.00105013616848737, 0.0009429065976291895, 0.0009533186675980687, 0.0008155003888532519, 0.001035420224070549, 0.0014562176074832678, 0.000999423093162477, 0.0009071152308024466, 0.0009437137050554156, 0.0010499736526980996, 0.0012284840922802687, 0.0008621689630672336, 0.0011529207695275545, 0.0010308605851605535, 0.0012289410224184394, 0.0009803762659430504, 0.0012586999218910933, 0.0011346692917868495, 0.0011652646353468299, 0.0012314838822931051, 0.0010490992572158575, 0.0010467576794326305, 0.0009016644326038659, 0.0008479623938910663, 0.0008253377745859325, 0.0008195462869480252, 0.0010148489382117987, 0.0010029581608250737, 0.0009971738327294588, 0.0011247525690123439, 0.0008227280341088772, 0.0010608050506561995, 0.0010660112602636218, 0.000902556290384382, 0.0011359952623024583, 0.0008674001437611878, 0.0009573218412697315, 0.0010636824881657958, 0.0014124230947345495, 0.0007058560731820762, 0.0010651519987732172, 0.001227352418936789, 0.0006474948022514582, 0.0011674822308123112, 0.0008934702491387725, 0.0011247226502746344, 0.000897667370736599, 0.000932931958232075, 0.0011746572563424706, 0.0011395008768886328, 0.001065678196027875, 0.0008723788196220994, 0.0009371016058139503, 0.0009879965800791979, 0.000981293385848403, 0.0009280545054934919, 0.0010653260396793485, 0.0010839743772521615, 0.000887190573848784, 0.0009533663978800178, 0.0008995997486636043, 0.0012509789085015655, 0.001022037584334612, 0.0009510470554232597, 0.0009477196726948023, 0.0011200123699381948, 0.0011324730003252625, 0.0009572405833750963, 0.0010986756533384323, 0.001087055541574955, 0.0011329440167173743, 0.0013162009418010712, 0.0009210451971739531, 0.0009905527113005519, 0.00100182113237679, 0.0009364719735458493, 0.0009745437419041991, 0.0008728706161491573, 0.0010629562893882394, 0.0010270900093019009, 0.0009368119644932449, 0.0013779753353446722, 0.0009418906993232667, 0.0009949792874976993, 0.0008713938877917826, 0.001336311106570065, 0.0009629352134652436, 0.0009409713093191385, 0.0009520856547169387, 0.0009353385539725423, 0.001080470159649849, 0.0008805672405287623, 0.0009880117140710354, 0.0009714484331198037, 0.0009205394308082759, 0.001255810377188027, 0.0011191793018952012, 0.0009101345203816891, 0.00090968725271523, 0.0009960386669263244, 0.0010042560752481222, 0.0011143895098939538, 0.001151637639850378, 0.0009203916415572166, 0.0011944439029321074, 0.0009534036507830024, 0.000942686980124563, 0.0009542242623865604, 0.001171583659015596, 0.0012445818865671754, 0.0012181004276499152, 0.001040774048306048, 0.0009832784999161959, 0.001020996831357479, 0.0011111547937616706, 0.0008360238280147314, 0.0010300001595169306, 0.0007766929338686168, 0.000969699292909354, 0.001084616407752037, 0.0010786056518554688, 0.0009076602873392403, 0.0009980947943404317, 0.0008792220032773912, 0.0011618878925219178, 0.0009737320360727608, 0.0009471862576901913, 0.0011356112081557512, 0.0010878065368160605, 0.0012140752514824271, 0.0009392625652253628, 0.0009344611898995936, 0.0009528615046292543, 0.0010047925170511007, 0.0011127716861665249, 0.000795843661762774, 0.0010296670952811837, 0.0009251970332115889, 0.0010449786204844713, 0.0012170334812253714, 0.001184372347779572, 0.0009682991658337414, 0.0009148742537945509, 0.0011730000842362642, 0.0010035603772848845, 0.0009772377088665962, 0.001123912399634719, 0.0010612463811412454, 0.0009331861510872841, 0.00096196832600981, 0.0009557656012475491, 0.0008155789109878242, 0.001112025580368936, 0.0012911850353702903, 0.001029417384415865, 0.0011688392842188478, 0.0010825543431565166, 0.000889139948412776, 0.0008908045710995793, 0.0009755186620168388, 0.0010454177390784025, 0.0010021500056609511, 0.0009345635771751404, 0.0010286758188158274, 0.0010952458251267672, 0.0010466644307598472, 0.0008006910793483257, 0.0012149104150012136, 0.0011535189114511013, 0.001177093479782343, 0.0011836191406473517, 0.001161911292001605, 0.0010018078610301018, 0.0010059300111606717, 0.001461975509300828, 0.0009433725499548018, 0.0008625917253084481, 0.0011754552833735943, 0.0011043614940717816, 0.0010896988678723574, 0.0012537947623059154, 0.0011878793593496084, 0.0012216402683407068, 0.0007681103888899088, 0.0009960761526599526, 0.0012040776200592518, 0.0008479017415083945, 0.0010710479691624641, 0.0010913652367889881, 0.0012059042928740382, 0.0011780175846070051, 0.0010748278582468629, 0.0010657599195837975, 0.0010651051998138428, 0.0011575045064091682, 0.0009790676413103938, 0.0010751750087365508, 0.0007944003446027637, 0.0009724030969664454, 0.0009948721854016185, 0.0011754474835470319, 0.001036234782077372, 0.0014588873600587249, 0.0008125783642753959, 0.0008911883342079818, 0.0009145631338469684, 0.0011399118229746819, 0.0009725731215439737, 0.0008841466624289751, 0.0009239580831490457, 0.0009811237687245011, 0.0013806622009724379, 0.0008056601509451866, 0.0009896178962662816, 0.0007772752433083951, 0.0011194529943168163, 0.000873228651471436, 0.0010448502143844962, 0.0013551757438108325, 0.0011298508616164327, 0.001242848695255816, 0.0009501282474957407, 0.000802813156042248, 0.001260304357856512, 0.0009850641945376992, 0.0009165953379124403, 0.0008567116456106305, 0.0010811265092343092, 0.0011330912820994854, 0.0009161682683043182, 0.0011834392789751291, 0.0009598767501302063, 0.0010657700477167964, 0.0010621272958815098, 0.0012424841988831758, 0.0008791423751972616, 0.0008885014103725553, 0.0007932780426926911, 0.0010483848163858056, 0.0008029936579987407, 0.0009631325374357402, 0.0007882411009632051, 0.0009508721996098757, 0.0009688556310720742, 0.0009690208826214075, 0.0010039471089839935, 0.0010435380972921848, 0.0010254249209538102, 0.0010315512772649527, 0.0011929298052564263, 0.0011908822925761342, 0.0010276513639837503, 0.0007249469636008143, 0.0010150804882869124, 0.0008933813660405576, 0.0011102806311100721, 0.0009113451233133674, 0.0009808569448068738, 0.0011114489752799273, 0.0009718765504658222, 0.0010097908088937402, 0.0007672551437281072, 0.000988371903076768, 0.0013573468895629048, 0.0010494096204638481, 0.0012546505313366652, 0.0007609656313434243, 0.0010470503475517035, 0.0011166587937623262, 0.000898428843356669, 0.001102113863453269, 0.0010022117057815194, 0.0010194756323471665, 0.0009681174997240305, 0.000993072404526174, 0.0010540466755628586, 0.0009848750196397305, 0.0010744311148300767, 0.0011648057261481881, 0.001265611150301993, 0.001093031489290297, 0.001159164123237133, 0.0009447518386878073, 0.0008067591115832329, 0.0009795887162908912, 0.0010445421794429421, 0.000964007864240557, 0.001087796175852418, 0.000961254583671689, 0.0009688145946711302, 0.0011106351157650352, 0.0009720436646603048, 0.001144494628533721, 0.0008589644567109644, 0.0010676184901967645, 0.0010986118577420712, 0.0008447348955087364, 0.0011554996017366648, 0.0009842494037002325, 0.0010256305104121566, 0.0010767037747427821, 0.0009460389264859259, 0.0010808767983689904, 0.0010130511363968253, 0.001069307210855186, 0.0010739696444943547, 0.000786925433203578, 0.0009847348555922508, 0.001111420919187367, 0.0010174200870096684, 0.001386176678352058, 0.001103901187889278, 0.001073338557034731, 0.0009195685270242393, 0.0013142424868419766, 0.0011960531119257212, 0.0008967320900410414, 0.0009524123161099851, 0.001148326089605689, 0.0011125559685751796, 0.001087010488845408, 0.0010132346069440246, 0.0010634921491146088, 0.0007738928543403745, 0.0010171516332775354, 0.0010012100683525205, 0.0009332466870546341, 0.0010120590450242162, 0.0011239562882110476, 0.0008225509081967175, 0.0008997502154670656, 0.0010189730674028397, 0.001317339832894504, 0.001062384806573391, 0.001070760772563517, 0.0009909614454954863, 0.0009771102340891957, 0.001190098118968308, 0.0008766454411670566, 0.0009374043438583612, 0.0008217999129556119, 0.0009404800948686898, 0.0008949835319072008, 0.0010043652728199959, 0.0009050648659467697, 0.0010570306330919266, 0.0011295246658846736, 0.0010287048062309623, 0.0007351681706495583, 0.0010632819030433893, 0.0010062989313155413, 0.0009920127922669053, 0.0011017087381333113, 0.0009888762142509222, 0.001180184306576848, 0.0010816081194207072, 0.000868784380145371, 0.0009328973246738315, 0.001163672422990203, 0.0009315978386439383, 0.0011861997190862894, 0.0011988795595243573, 0.0009957872098311782, 0.0008293390274047852, 0.0010891114361584187, 0.0010056132450699806, 0.0009429825004190207, 0.0008877072250470519, 0.000997436000034213, 0.0012183040380477905, 0.0009569086250849068, 0.0009814538061618805, 0.001037092530168593, 0.000854241312481463, 0.0010742121376097202, 0.0009391516214236617, 0.0006477716378867626, 0.0010037926258519292, 0.0009992127306759357, 0.001017618807964027, 0.0013328188797459006, 0.0007856154115870595, 0.001030532643198967, 0.0012565586948767304, 0.0009193446603603661, 0.001133082085289061, 0.000892425945494324, 0.001262830221094191, 0.0009925459744408727, 0.0012521918397396803, 0.0007455772720277309, 0.0010518378112465143, 0.0011833079624921083, 0.001113257254473865, 0.0010712601942941546, 0.001002023578621447, 0.0013664287980645895, 0.0008070332696661353, 0.0009116664878092706, 0.0010333590907976031, 0.0009550701943226159, 0.0007609040476381779, 0.0008970405906438828, 0.0010898192413151264, 0.0012040706351399422, 0.0007418214809149504, 0.001030866988003254, 0.001160123967565596, 0.0009815117809921503, 0.0013197793159633875, 0.0009002485894598067, 0.0008614007965661585, 0.0009357276721857488, 0.0009173925500363111, 0.0009858082048594952, 0.0011101781856268644, 0.000997088267467916, 0.000993940862827003, 0.0010371957905590534, 0.0010760342702269554, 0.001149735297076404, 0.0010697070974856615, 0.0009853359078988433, 0.001015155459754169, 0.0009263866231776774, 0.0010551080340519547, 0.0010825884528458118, 0.0009592523565515876, 0.0009270183509215713, 0.0010276820976287127, 0.0011191819794476032, 0.0007660043775103986, 0.0008072708733379841, 0.0008633441757410765, 0.0009104832424782217, 0.0013115715701133013, 0.0007152552716434002, 0.001147426781244576, 0.0009271208546124399, 0.0009002969600260258, 0.0009338915115222335, 0.0011560467537492514, 0.0009368199971504509, 0.0008887046133168042, 0.001124460599385202, 0.0010271265637129545, 0.0009447621996514499, 0.0011572774965316057, 0.0009603401413187385, 0.0010188543237745762, 0.0009158283937722445, 0.0010908065596595407, 0.0010478277690708637, 0.0011737954337149858, 0.0013174371561035514, 0.0015554241836071014, 0.0009571497794240713, 0.0012738020159304142, 0.000993642141111195, 0.0011821762891486287, 0.0010583895491436124, 0.0009808056056499481, 0.0010068239644169807, 0.0006981365731917322, 0.0011497472878545523, 0.0010657964739948511, 0.000982397235929966, 0.0010977433994412422, 0.0011149320052936673, 0.0008855457999743521, 0.0008190696244128048, 0.0010234543588012457, 0.0010866796365007758, 0.0009866092586889863, 0.001032256637699902, 0.0009905961342155933, 0.0008547116303816438, 0.0010395656572654843, 0.0009388769394718111, 0.001048279576934874, 0.0008685083594173193, 0.0011212934041395783, 0.0010720917489379644, 0.001098024775274098, 0.001000502030365169, 0.0010296081891283393, 0.001008687075227499, 0.0010229513281956315, 0.00098513497505337, 0.0008681782055646181, 0.0010515011381357908, 0.0010208762250840664, 0.0011705233482643962, 0.0008717048913240433, 0.0011246787616983056, 0.0009332976769655943, 0.0009903196478262544, 0.0007665433222427964, 0.0011040448443964124, 0.0008224823395721614, 0.0010751483496278524, 0.0008806611876934767, 0.0009906069608405232, 0.0013723353622481227, 0.0013030687114223838, 0.0011380445212125778, 0.0009873516391962767, 0.0008350962307304144, 0.001063205418176949, 0.000865813868585974, 0.0009502057218924165, 0.0009838140103965998, 0.0009517668513581157, 0.0011455765925347805, 0.000883309287019074, 0.0008380256476812065, 0.001198001205921173, 0.0009641677024774253, 0.0012346914736554027, 0.0009353225468657911, 0.00096124317497015, 0.0012329216115176678, 0.001028211903758347, 0.0012332398910075426, 0.0009994864230975509, 0.0008996289689093828, 0.0011554077500477433, 0.0012799856485798955, 0.0008014685590751469, 0.0009561108890920877, 0.0009571734699420631, 0.0009844674495980144, 0.001051939558237791, 0.0009661912336014211, 0.0010667985770851374, 0.0009697010973468423, 0.0012528343359008431, 0.001151714357547462, 0.0009879500139504671, 0.0009612903231754899, 0.0009286998538300395, 0.0008087206515483558, 0.000927375687751919, 0.0007770641823299229, 0.0008540598792023957, 0.0011196688283234835, 0.001071552629582584, 0.0008946871967054904, 0.0009855588432401419, 0.0009964448399841785, 0.0011909638997167349, 0.001166094676591456, 0.0009577222517691553, 0.001187739078886807, 0.0009657660266384482, 0.001030312734656036, 0.000798339257016778, 0.0009681631345301867, 0.0009805663721635938, 0.0008524309960193932, 0.0007627058657817543, 0.000933574337977916, 0.0008442159160040319, 0.0012712907046079636, 0.0013201619731262326, 0.0008384818211197853, 0.001111227204091847, 0.0010712143266573548, 0.0009395154775120318, 0.0009611561545170844, 0.001289105392061174, 0.0008121112477965653, 0.0010401054751127958, 0.0009958635782822967, 0.0010184640996158123, 0.0009462409070692956, 0.001027866150252521, 0.0010805637575685978, 0.001156449317932129, 0.0010096461046487093, 0.001116947503760457, 0.0009771622717380524, 0.0008083601132966578, 0.0011138174450024962, 0.0008359465282410383, 0.0011787355178967118, 0.0009123507188633084, 0.0009445339674130082, 0.0009893681854009628, 0.0010469192638993263, 0.0010526031255722046, 0.0010393357370048761, 0.0010230839252471924, 0.000949621491599828, 0.0011412656167522073, 0.001118591520935297, 0.0012143822386860847, 0.0011272336123511195, 0.0011203907197341323, 0.0009127045632340014, 0.0012709310976788402, 0.0008853584877215326, 0.0010254058288410306, 0.0010532792657613754, 0.000985127524472773, 0.0009578481549397111, 0.0009147108066827059, 0.00140479882247746, 0.001011613174341619, 0.0012155019212514162, 0.0011070484761148691, 0.001135834027081728, 0.0017963499994948506, 0.0008157238480634987, 0.0010384663473814726, 0.0009923819452524185, 0.0009110369137488306, 0.0009770068572834134, 0.0011346358805894852, 0.0013393748085945845, 0.0009139464236795902, 0.0013241026317700744, 0.0008914176723919809, 0.0010188653832301497, 0.0011479039676487446, 0.0009889642242342234, 0.0011993946973234415, 0.0008093208889476955, 0.0010074188467115164, 0.0010914963204413652, 0.0006180182681418955, 0.0012534388806670904, 0.0012319396482780576, 0.0011614476097747684, 0.0010205552680417895, 0.0006686013075523078, 0.0011849197326228023, 0.001063187257386744, 0.0008804506505839527, 0.000922711449675262, 0.0008689807145856321, 0.001192257972434163, 0.001039779046550393, 0.0010920427739620209, 0.0009429366909898818, 0.001100636669434607, 0.0010852953419089317, 0.0009142773342318833, 0.00078007229603827, 0.0010499765630811453, 0.0012036975240334868, 0.0010099818464368582, 0.000984437414444983, 0.0009414863889105618, 0.001131322467699647, 0.0009078419534489512, 0.000842701701913029, 0.0009063835022971034, 0.0009890750516206026, 0.0010891929268836975, 0.0010711346985772252, 0.0014392375014722347, 0.0010134681360796094, 0.0010000055190175772, 0.0008950380724854767, 0.0010361785534769297, 0.0007484561647288501, 0.0008293591672554612, 0.0009572961716912687, 0.001011309097521007, 0.0010461609344929457, 0.0010114064207300544, 0.0009556490113027394, 0.0008603201131336391, 0.000925769389141351, 0.0010402199113741517, 0.0009476736304350197, 0.001283571938984096, 0.0010390477254986763, 0.001315095229074359, 0.0010342283640056849, 0.0011015093186870217, 0.0008597641135565937, 0.00089263851987198, 0.000721139251254499, 0.000902047788258642, 0.0008726156665943563, 0.0009389955666847527, 0.0009536439902149141, 0.0009147152304649353, 0.0010232578497380018, 0.0012436191318556666, 0.0008974795928224921, 0.0009024922619573772, 0.0012523283949121833, 0.0009789332980290055, 0.0010972118470817804, 0.001006732345558703, 0.0008676589350216091, 0.0009614776354283094, 0.0009198103216476738, 0.0009369159815832973, 0.0008693761192262173, 0.0007605028804391623, 0.0011412677122280002, 0.001086684875190258, 0.0010527285048738122, 0.001199010293930769, 0.0010225304868072271, 0.0010526933474466205, 0.0012245207326486707, 0.001105767791159451, 0.0012549081584438682, 0.0008910320466384292, 0.001018164330162108, 0.0008731605485081673, 0.0008747093379497528, 0.0011399731738492846, 0.000979259260930121, 0.0008256146102212369, 0.0007417075685225427, 0.001024619210511446, 0.001050964929163456, 0.0008544880547560751, 0.0010398305021226406, 0.0010449138935655355, 0.0009480619919486344, 0.0008635596605017781, 0.0011024578707292676, 0.0010333153186365962, 0.0013027560198679566, 0.00089267548173666, 0.0010639223037287593, 0.0009798971004784107, 0.0008916992228478193, 0.000833497557323426, 0.0011140486458316445, 0.0011215119156986475, 0.0012812500353902578, 0.000853658770211041, 0.0013897443423047662, 0.0010852778796106577, 0.0009762875852175057, 0.0009597546304576099, 0.0008002399699762464, 0.000971030502114445, 0.0011555050732567906, 0.0010518713388592005, 0.0009277045028284192, 0.0010157228680327535, 0.0011258298764005303, 0.0010905259987339377, 0.0007093606982380152, 0.0010504003148525953, 0.0008707448723725975, 0.001078132539987564, 0.0009043795289471745, 0.0010204308200627565, 0.0008796686888672411, 0.0009358048555441201, 0.001163426786661148, 0.0010191940236836672, 0.0011324492515996099, 0.0010053933365270495, 0.000868392875418067, 0.0010455846786499023, 0.0011312841670587659, 0.001175571116618812, 0.0010101363295689225, 0.0009072181419469416, 0.0011366794351488352, 0.0009955884888768196, 0.0007819177117198706, 0.000889826042111963, 0.001176847843453288, 0.0010782162426039577, 0.0010773485992103815, 0.0011303917272016406, 0.0010138732613995671, 0.0008657919825054705, 0.0009625059901736677, 0.00111506471876055, 0.001152634620666504, 0.001197558012790978, 0.0011809674324467778, 0.0009757036459632218, 0.0011037177173420787, 0.0010725392494350672, 0.0011664496269077063, 0.0010010155383497477, 0.0008694101125001907, 0.0013560341903939843, 0.0009988871170207858, 0.0010095004690811038, 0.0008871892932802439, 0.0010344667825847864, 0.0008603414171375334, 0.0008278499590232968, 0.0007930672727525234, 0.0009414509986527264, 0.0009807811584323645, 0.0008910818141885102, 0.0011440145317465067, 0.001170288771390915, 0.0009349429165013134, 0.0007065145764499903, 0.0009003204759210348, 0.0008820569491945207, 0.0010132784955203533, 0.0011062377598136663, 0.0010640276595950127, 0.0008298255852423608, 0.0010647173039615154, 0.000914969714358449, 0.0010267499601468444, 0.0011395198525860906, 0.0011656193528324366, 0.0009285662672482431, 0.0009067670325748622, 0.0010648166062310338, 0.001286810263991356, 0.0011798071209341288, 0.0009415330132469535, 0.000909213675186038, 0.0006999392644502223, 0.0009877881966531277, 0.0009708793368190527, 0.0013191006146371365, 0.0012455253163352609, 0.0010196713265031576, 0.0009400616399943829, 0.0010856626322492957, 0.000948899716604501, 0.0008891556644812226, 0.0010535051114857197, 0.0010975348995998502, 0.0010792731773108244, 0.0009775124490261078, 0.000863889348693192, 0.0009951977990567684, 0.0009653386659920216, 0.0008291114354506135, 0.0008697779267095029, 0.000878986669704318, 0.0013453471474349499, 0.0010007760720327497, 0.0009401149582117796, 0.0012744374107569456, 0.0008562660659663379, 0.0010049671400338411, 0.0014999783597886562, 0.0009194244630634785, 0.0008751303539611399, 0.0010437741875648499, 0.0010298039996996522, 0.0011371857253834605, 0.001160473795607686, 0.001155841862782836, 0.001285924343392253, 0.0011638934956863523, 0.0008787597180344164, 0.0009859077399596572, 0.0009761163964867592, 0.0008675460703670979, 0.000812490121461451, 0.0011803179513663054, 0.0010114744072780013, 0.000806895550340414, 0.0010562777752056718, 0.0009977139998227358, 0.0011819781502708793, 0.0011317887110635638, 0.000901969091501087, 0.001208420842885971, 0.0011803916422650218, 0.0012031770311295986, 0.0009449107456021011, 0.0010060032363981009, 0.001008518971502781, 0.0011265341890975833, 0.0009761588298715651, 0.000978335621766746, 0.0012324923882260919, 0.0010059615597128868, 0.001053758431226015, 0.001084569375962019, 0.0009545506909489632, 0.0012158972676843405, 0.001240647048689425, 0.0009054327965714037, 0.0009165219962596893, 0.0010707408655434847, 0.0009261324303224683, 0.0009631289285607636, 0.0011548289330676198, 0.0012251425068825483, 0.001004719757474959, 0.0009358596871607006, 0.0008171865483745933, 0.0008498154347762465, 0.0010858166497200727, 0.0009430255740880966, 0.0010754700051620603, 0.0012859575217589736, 0.0009936951100826263, 0.001275236252695322, 0.0008037109510041773, 0.0007561924285255373, 0.0009018535492941737, 0.0011616561096161604, 0.0010649891337379813, 0.0009065117919817567, 0.0013136249035596848, 0.0009850707137957215, 0.0013615197967737913, 0.0007641791016794741, 0.0009921437595039606, 0.001076334505341947, 0.0006693960749544203, 0.0009376044617965817, 0.0010419298196211457, 0.0008890200988389552, 0.0012339073000475764, 0.0010998243233188987, 0.0010952334851026535, 0.001164760789833963, 0.000929537694901228, 0.0010475711897015572, 0.000968756852671504, 0.001012840773910284, 0.0010466878302395344, 0.001052611623890698, 0.0007561903912574053, 0.0009463242604397237, 0.000967690022662282, 0.0011009476147592068, 0.0010706536704674363, 0.0009360847761854529, 0.0008545091841369867, 0.0008551844512112439, 0.0008638682775199413, 0.0011796182952821255, 0.001033456064760685, 0.0010626247385516763, 0.0011566884350031614, 0.001188494497910142, 0.0008479110547341406, 0.0008352724835276604, 0.001091554993763566, 0.000892908254172653, 0.0008550484199076891, 0.0009991147089749575, 0.0010597854852676392, 0.0008672352996654809, 0.00108930969145149, 0.0012406695168465376, 0.0008615546976216137, 0.0011824786197394133, 0.0011934663634747267, 0.0015676418552175164, 0.0010523946257308125, 0.0010295459069311619, 0.001063228235580027, 0.0010732075897976756, 0.001047853147611022, 0.0011319234035909176, 0.0008921874687075615, 0.0012151696719229221, 0.000903465726878494, 0.001046712277457118, 0.000955544353928417, 0.000995190697722137, 0.0008956510573625565, 0.0010490033309906721, 0.0010367996292188764, 0.0009486190392635763, 0.0011658408911898732, 0.0009366924059577286, 0.000756123277824372, 0.001253160648047924, 0.0008612920064479113, 0.0008716422016732395, 0.0011715206783264875, 0.0010329860961064696, 0.0010279950220137835, 0.0009649056592024863, 0.0009501341846771538, 0.001319164759479463, 0.000999164185486734, 0.0007736845873296261, 0.001074352883733809, 0.001194471726194024, 0.0009573609568178654, 0.0011501016560941935]\n",
      "Accuracy:  0.9975142045454546\n",
      "Confusion Matrix:\n",
      "[[2808    5]\n",
      " [   2    1]]\n",
      "Precision: 0.16666666666666666\n",
      "Recall: 0.3333333333333333\n"
     ]
    }
   ],
   "source": [
    "pred=[]\n",
    "targets=[]\n",
    "\n",
    "\n",
    "with torch.no_grad():\n",
    "    # parameter update 하지 말라고 써주는거\n",
    "    model_dnn.eval()\n",
    "    for x,y in val_dataloader:\n",
    "        x = x.to(device)\n",
    "        y = y.to(device)\n",
    "\n",
    "        output = model_dnn(x)\n",
    "        pred.extend(output.squeeze().tolist())\n",
    "        targets.extend(y.tolist())\n",
    "\n",
    "print(pred)\n",
    "\n",
    "binary_pred = [1 if i >= 0.0015 else 0 for i in pred]\n",
    "\n",
    "accuracy = accuracy_score(targets, binary_pred)\n",
    "\n",
    "print('Accuracy: ',accuracy)\n",
    "\n",
    "# 혼동 행렬 계산\n",
    "conf_matrix = confusion_matrix(targets, binary_pred)\n",
    "\n",
    "# Precision 계산\n",
    "precision = precision_score(targets, binary_pred)\n",
    "\n",
    "# Recall 계산\n",
    "recall = recall_score(targets, binary_pred)\n",
    "\n",
    "# 결과 출력\n",
    "print(\"Confusion Matrix:\")\n",
    "print(conf_matrix)\n",
    "print(\"Precision:\", precision)\n",
    "print(\"Recall:\", recall)\n",
    "        "
   ]
  },
  {
   "cell_type": "markdown",
   "metadata": {},
   "source": [
    "- imbalanced classification이라 DNN 으로 결과가 멸망해버렸네요 ㅎㅎ\n",
    "- 다음은 차원축소를 진행하고 DNN으로 classification 해보자!"
   ]
  },
  {
   "cell_type": "code",
   "execution_count": null,
   "metadata": {},
   "outputs": [],
   "source": []
  },
  {
   "cell_type": "code",
   "execution_count": 61,
   "metadata": {},
   "outputs": [
    {
     "name": "stdout",
     "output_type": "stream",
     "text": [
      "예상완료시각: 2023-07-21 19:37:38.266890\n",
      "Epoch: 0, Average Loss: 0.025502\n",
      "Epoch: 1, Average Loss: 0.025337\n",
      "Epoch: 2, Average Loss: 0.025269\n",
      "Epoch: 3, Average Loss: 0.025234\n",
      "Epoch: 4, Average Loss: 0.025213\n",
      "Epoch: 5, Average Loss: 0.025198\n",
      "Epoch: 6, Average Loss: 0.025186\n",
      "Epoch: 7, Average Loss: 0.025177\n",
      "Epoch: 8, Average Loss: 0.025170\n",
      "Epoch: 9, Average Loss: 0.025161\n",
      "Epoch: 10, Average Loss: 0.025140\n",
      "Epoch: 11, Average Loss: 0.025121\n",
      "Epoch: 12, Average Loss: 0.025100\n",
      "Epoch: 13, Average Loss: 0.025081\n",
      "Epoch: 14, Average Loss: 0.025064\n",
      "Epoch: 15, Average Loss: 0.025049\n",
      "Epoch: 16, Average Loss: 0.025035\n",
      "Epoch: 17, Average Loss: 0.025023\n",
      "Epoch: 18, Average Loss: 0.025012\n",
      "Epoch: 19, Average Loss: 0.025002\n",
      "Model saved at ./ae_save_models/anomaly_autoencoder_Fraud_07_21_19_37.pt\n"
     ]
    }
   ],
   "source": [
    "#손실함수, optimizer 정의\n",
    "# 손실함수 선택할 때, 오토인코더니까 mse loss나 로 정의했지만\n",
    "# 아래에서 dnn 할 때는 binary classification이니까 binary cross entropy loss로 해보자\n",
    "criterion = nn.MSELoss()\n",
    "optimizer = torch.optim.Adam(model1.parameters(), lr=lr)\n",
    "\n",
    "model1.train()\n",
    "total_loss = 0.0\n",
    "total_batches = 0\n",
    "average_loss=[]\n",
    "\n",
    "# 학습\n",
    "if Train : \n",
    "    for epoch in range(epochs):\n",
    "        now1=datetime.datetime.now()\n",
    "        for batch in dataloader:\n",
    "            #모델 파라미터의 gradient 초기화\n",
    "            optimizer.zero_grad()\n",
    "            #dataloader에서 한 row씩 가져오기\n",
    "            inputs = batch.to(device)\n",
    "            #모델에 넣기\n",
    "            _ , outputs = model1(inputs)\n",
    "            #loss 계산\n",
    "            loss = criterion(outputs, inputs)\n",
    "            #loss를 사용해 backpropagation으로 gradient 계산\n",
    "            loss.backward()\n",
    "            #계산한 gradient로 모델의 parameter 업데이트\n",
    "            optimizer.step()\n",
    "\n",
    "            total_loss += loss.item()\n",
    "            total_batches += 1\n",
    "\n",
    "        if epoch==0: \n",
    "            now2=datetime.datetime.now()\n",
    "            print(f\"예상완료시각: {now2+(now2-now1)*epochs}\")    \n",
    "        average_loss.append(total_loss / total_batches)\n",
    "        print(f\"Epoch: {epoch}, Average Loss: {total_loss / total_batches:.6f}\")\n",
    "\n",
    "    now=datetime.datetime.now()\n",
    "    formatted=now.strftime('%m_%d_%H_%M')\n",
    "\n",
    "    model_name = f'anomaly_autoencoder_Fraud_{formatted}.pt'\n",
    "    torch.save(model1.state_dict(),  model_path + model_name)\n",
    "    print(f'Model saved at { model_path + model_name}')\n",
    "\n",
    "else:\n",
    "    model_name = f'anomaly_autoencoder_Fraud_07_06_13_48.pt'\n",
    "    model1.load_state_dict(torch.load( model_path +  model_name))\n",
    "    print('model parameter: ',model1.parameters())\n",
    "\n"
   ]
  },
  {
   "cell_type": "code",
   "execution_count": 62,
   "metadata": {},
   "outputs": [
    {
     "data": {
      "image/png": "[encoded data removed]",
      "text/plain": [
       "<Figure size 432x288 with 1 Axes>"
      ]
     },
     "metadata": {
      "needs_background": "light"
     },
     "output_type": "display_data"
    }
   ],
   "source": [
    "# loss가 잘 줄어드는지 확인\n",
    "plt.figure()\n",
    "plt.plot(average_loss)\n",
    "plt.xlabel('Iteration')\n",
    "plt.ylabel('Loss')\n",
    "plt.title('Training Loss Curve')\n",
    "plt.show()"
   ]
  },
  {
   "cell_type": "code",
   "execution_count": null,
   "metadata": {},
   "outputs": [],
   "source": [
    "for epoch in range(epochs):\n",
    "    now1=datetime.datetime.now()\n",
    "    for batch in dataloader:\n",
    "        #모델 파라미터의 gradient 초기화\n",
    "        optimizer.zero_grad()\n",
    "        #dataloader에서 한 row씩 가져오기\n",
    "        inputs = batch.to(device)\n",
    "        #모델에 넣기\n",
    "        _ , outputs = model1(inputs)\n",
    "        #loss 계산\n",
    "        loss = criterion(outputs, inputs)\n",
    "        #loss를 사용해 backpropagation으로 gradient 계산\n",
    "        loss.backward()\n",
    "        #계산한 gradient로 모델의 parameter 업데이트\n",
    "        optimizer.step()\n",
    "\n",
    "        total_loss += loss.item()\n",
    "        total_batches += 1\n",
    "\n",
    "    if epoch==0: \n",
    "        now2=datetime.datetime.now()\n",
    "        print(f\"예상완료시각: {now2+(now2-now1)*epochs}\")    \n",
    "    average_loss.append(total_loss / total_batches)\n",
    "    print(f\"Epoch: {epoch}, Average Loss: {total_loss / total_batches:.6f}\")\n",
    "\n",
    "now=datetime.datetime.now()\n",
    "formatted=now.strftime('%m_%d_%H_%M')\n",
    "\n",
    "model_name = f'anomaly_autoencoder_Fraud_{formatted}.pt'\n",
    "torch.save(model1.state_dict(),  model_path + model_name)\n",
    "print(f'Model saved at { model_path + model_name}')\n",
    "\n",
    "else:\n",
    "model_name = f'anomaly_autoencoder_Fraud_07_06_13_48.pt'\n",
    "model1.load_state_dict(torch.load( model_path +  model_name))\n",
    "print('model parameter: ',model1.parameters())\n"
   ]
  }
 ],
 "metadata": {
  "kernelspec": {
   "display_name": "Python 3",
   "language": "python",
   "name": "python3"
  },
  "language_info": {
   "codemirror_mode": {
    "name": "ipython",
    "version": 3
   },
   "file_extension": ".py",
   "mimetype": "text/x-python",
   "name": "python",
   "nbconvert_exporter": "python",
   "pygments_lexer": "ipython3",
   "version": "3.6.13"
  },
  "orig_nbformat": 4
 },
 "nbformat": 4,
 "nbformat_minor": 2
}
